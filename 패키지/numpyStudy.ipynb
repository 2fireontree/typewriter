{
 "cells": [
  {
   "cell_type": "code",
   "execution_count": 1,
   "id": "d96edf9e-bbd0-4f2e-b5bb-43c0722b0c5e",
   "metadata": {},
   "outputs": [
    {
     "data": {
      "text/plain": [
       "'1.26.3'"
      ]
     },
     "execution_count": 1,
     "metadata": {},
     "output_type": "execute_result"
    }
   ],
   "source": [
    "import numpy as np\n",
    "np.__version__"
   ]
  },
  {
   "cell_type": "markdown",
   "id": "c3e8493c-6f89-4e96-81fe-4cd83762d22d",
   "metadata": {},
   "source": [
    "#### numpy\n",
    "\n",
    "- 일반적인 배열 + 배열 연산자를 쓰면 배열1배열2 형태로 출력됨\n",
    "- numpy를 이용하면 배열 안의 요소들의 연산을 쉽게 할 수 있음"
   ]
  },
  {
   "cell_type": "code",
   "execution_count": 2,
   "id": "6f1cd50f-31d2-4e99-8a53-cd96b211eb58",
   "metadata": {},
   "outputs": [
    {
     "data": {
      "text/plain": [
       "[1, 2, 3, 4, 3, 4, 5, 6]"
      ]
     },
     "execution_count": 2,
     "metadata": {},
     "output_type": "execute_result"
    }
   ],
   "source": [
    "num1 = [1, 2, 3, 4]\n",
    "num2 = [3, 4, 5, 6]\n",
    "num1 + num2"
   ]
  },
  {
   "cell_type": "code",
   "execution_count": 3,
   "id": "ac24dada-5946-4950-aa7a-ef071c593924",
   "metadata": {},
   "outputs": [
    {
     "data": {
      "text/plain": [
       "array([1, 2, 3, 4])"
      ]
     },
     "execution_count": 3,
     "metadata": {},
     "output_type": "execute_result"
    }
   ],
   "source": [
    "arr1 = np.array(num1)\n",
    "arr1"
   ]
  },
  {
   "cell_type": "code",
   "execution_count": 4,
   "id": "a0116939-67e1-41ae-8e03-1cd711f10d91",
   "metadata": {},
   "outputs": [
    {
     "data": {
      "text/plain": [
       "array([3, 4, 5, 6])"
      ]
     },
     "execution_count": 4,
     "metadata": {},
     "output_type": "execute_result"
    }
   ],
   "source": [
    "arr2 = np.array(num2)\n",
    "arr2"
   ]
  },
  {
   "cell_type": "code",
   "execution_count": 5,
   "id": "9a0f0cfc-bc1b-4362-8ccd-e4eceb18edf5",
   "metadata": {},
   "outputs": [
    {
     "name": "stdout",
     "output_type": "stream",
     "text": [
      "[ 4  6  8 10]\n",
      "[-2 -2 -2 -2]\n",
      "[ 3  8 15 24]\n",
      "[0.33333333 0.5        0.6        0.66666667]\n"
     ]
    }
   ],
   "source": [
    "print(arr1 + arr2)\n",
    "print(arr1 - arr2)\n",
    "print(arr1 * arr2)\n",
    "print(arr1 / arr2)\n",
    "#배열 개수가 다르면 에러가 나옴"
   ]
  },
  {
   "cell_type": "code",
   "execution_count": 6,
   "id": "f47fa4fa-9a25-4396-b5b0-5d27cc29313c",
   "metadata": {},
   "outputs": [
    {
     "data": {
      "text/plain": [
       "dtype('float64')"
      ]
     },
     "execution_count": 6,
     "metadata": {},
     "output_type": "execute_result"
    }
   ],
   "source": [
    "np.array([0.5, 1, 0.01, 8]).dtype # float 비트단위 연산으로 출력됨"
   ]
  },
  {
   "cell_type": "code",
   "execution_count": 7,
   "id": "92d9e0cb-dd08-45c8-af34-2937973e7261",
   "metadata": {},
   "outputs": [
    {
     "data": {
      "text/plain": [
       "array([0, 1, 2, 3])"
      ]
     },
     "execution_count": 7,
     "metadata": {},
     "output_type": "execute_result"
    }
   ],
   "source": [
    "data1 = [0, 1, 2, 3]\n",
    "a1 = np.array(data1)\n",
    "a1"
   ]
  },
  {
   "cell_type": "code",
   "execution_count": 8,
   "id": "f79e9c9d-b8e8-4437-9ebd-d1ee14a26784",
   "metadata": {},
   "outputs": [
    {
     "name": "stdout",
     "output_type": "stream",
     "text": [
      "int32\n"
     ]
    }
   ],
   "source": [
    "print(a1.dtype) #int32"
   ]
  },
  {
   "cell_type": "raw",
   "id": "26846db0-abae-49d1-8f59-cd86d55b2e64",
   "metadata": {},
   "source": [
    "#### Numpy 배열 생성\n",
    "\n",
    "np.arange(시작값, 끝값, 간격)\n",
    "출력: array([시작값, (...간격...), 끝값-1])"
   ]
  },
  {
   "cell_type": "code",
   "execution_count": 9,
   "id": "90880fd0-8d9d-46f2-90f2-e49fe54f52a5",
   "metadata": {},
   "outputs": [
    {
     "name": "stdout",
     "output_type": "stream",
     "text": [
      "[3 4 5 6 7 8 9]\n",
      "[1 3 5 7 9]\n",
      "[0 1 2 3 4 5 6 7 8 9]\n"
     ]
    }
   ],
   "source": [
    "print(np.arange(3, 10))\n",
    "print(np.arange(1, 10, 2))\n",
    "print(np.arange(10)) #시작인덱스가 0이면 생략가능"
   ]
  },
  {
   "cell_type": "markdown",
   "id": "35f8d7d3-e7ff-4954-86fa-2defee17738e",
   "metadata": {},
   "source": [
    "- np.arange(12) #1차원 배열\n",
    "- np.arange(12).reshape(a, b) #2차원 배열\n",
    "- np.arange(12).reshape(c, d, e) #3차원 배열\n",
    "- reshape를 통해서 다른 차원으로 배열로 변경할 수 있다.\n",
    "- 이때 a * b = c * d * e = 12. 크기는 유지 되어야 한다.\n",
    "- 만약 다르면 에러가 발생함"
   ]
  },
  {
   "cell_type": "code",
   "execution_count": 10,
   "id": "b99faceb-6284-4427-843e-c458ba3fbac5",
   "metadata": {},
   "outputs": [
    {
     "data": {
      "text/plain": [
       "array([[ 0,  1,  2],\n",
       "       [ 3,  4,  5],\n",
       "       [ 6,  7,  8],\n",
       "       [ 9, 10, 11]])"
      ]
     },
     "execution_count": 10,
     "metadata": {},
     "output_type": "execute_result"
    }
   ],
   "source": [
    "np.arange(12).reshape(4, 3)"
   ]
  },
  {
   "cell_type": "code",
   "execution_count": 11,
   "id": "c39f6e20-0000-41b2-a507-92d4700aca5a",
   "metadata": {},
   "outputs": [
    {
     "name": "stdout",
     "output_type": "stream",
     "text": [
      "[ 0  1  2  3  4  5  6  7  8  9 10 11]\n",
      "\n",
      "[[ 0  1  2  3]\n",
      " [ 4  5  6  7]\n",
      " [ 8  9 10 11]]\n",
      "\n",
      "[[[ 0  1]\n",
      "  [ 2  3]\n",
      "  [ 4  5]]\n",
      "\n",
      " [[ 6  7]\n",
      "  [ 8  9]\n",
      "  [10 11]]]\n"
     ]
    }
   ],
   "source": [
    "print(np.arange(12))\n",
    "print(\"\")\n",
    "print(np.arange(12).reshape(3, 4))\n",
    "print(\"\")\n",
    "print(np.arange(12).reshape(2, 3, 2))"
   ]
  },
  {
   "cell_type": "code",
   "execution_count": 12,
   "id": "bbe454f5-03a6-4591-9c2e-a5af262beb48",
   "metadata": {},
   "outputs": [
    {
     "data": {
      "text/plain": [
       "(3, 3, 3)"
      ]
     },
     "execution_count": 12,
     "metadata": {},
     "output_type": "execute_result"
    }
   ],
   "source": [
    "b1 = np.arange(27).reshape(3, 3, 3)\n",
    "b1.shape #shape를 통해서 배열의 차원을 확인할 수 있다."
   ]
  },
  {
   "cell_type": "code",
   "execution_count": 13,
   "id": "9cebe30e-84bc-462f-bc62-c41e495d21a2",
   "metadata": {},
   "outputs": [
    {
     "data": {
      "text/plain": [
       "(27,)"
      ]
     },
     "execution_count": 13,
     "metadata": {},
     "output_type": "execute_result"
    }
   ],
   "source": [
    "b2 = np.arange(27)\n",
    "b2.shape #1차원 배열은 (27,) 로 출력됨"
   ]
  },
  {
   "cell_type": "markdown",
   "id": "54b44d46-0f41-4b41-adca-e95bc0eac7e9",
   "metadata": {},
   "source": [
    "#### np.linspace()\n",
    "- np.linspapce(시작값, 끝값, 배열의 길이)\n",
    "- 배열의 길이 = 추출할 값의 개수\n",
    "- np.linspace(0, 10, 5) #0이상 10 이하의 균일한 간격의 실수 5개의 배열을 생성한다.\n",
    "- np.arange(0, 11, 2.5) #0이상 11 미만의 2.5 간격의 수의 배열을 생성한다.\n",
    "- 차이를 알아두자"
   ]
  },
  {
   "cell_type": "code",
   "execution_count": 14,
   "id": "91eaf280-269c-4625-9f85-d3b5c51b39ca",
   "metadata": {},
   "outputs": [
    {
     "data": {
      "text/plain": [
       "array([ 0. ,  2.5,  5. ,  7.5, 10. ])"
      ]
     },
     "execution_count": 14,
     "metadata": {},
     "output_type": "execute_result"
    }
   ],
   "source": [
    "np.arange(0, 11, 2.5)"
   ]
  },
  {
   "cell_type": "code",
   "execution_count": 15,
   "id": "bd84d7ae-0908-4039-80b5-2ed380d1ca6a",
   "metadata": {},
   "outputs": [
    {
     "data": {
      "text/plain": [
       "array([ 0. ,  2.5,  5. ,  7.5, 10. ])"
      ]
     },
     "execution_count": 15,
     "metadata": {},
     "output_type": "execute_result"
    }
   ],
   "source": [
    "np.linspace(0, 10, 5)"
   ]
  },
  {
   "cell_type": "code",
   "execution_count": 16,
   "id": "8d3d055c-0bf8-4dce-bace-c1933c79a1f5",
   "metadata": {},
   "outputs": [
    {
     "name": "stdout",
     "output_type": "stream",
     "text": [
      "[ 0.   2.5  5.   7.5 10. ]\n",
      "[ 0.   2.5  5.   7.5 10. ]\n"
     ]
    }
   ],
   "source": [
    "print(np.arange(0, 11, 2.5))\n",
    "print(np.linspace(0, 10, 5))\n",
    "#출력 모양은 같지만 실제로는 다름"
   ]
  },
  {
   "cell_type": "code",
   "execution_count": 17,
   "id": "6334cc1b-2d30-4e40-b934-2ecf274e49b2",
   "metadata": {},
   "outputs": [
    {
     "data": {
      "text/plain": [
       "array([0.        , 0.34906585, 0.6981317 , 1.04719755, 1.3962634 ,\n",
       "       1.74532925, 2.0943951 , 2.44346095, 2.7925268 , 3.14159265])"
      ]
     },
     "execution_count": 17,
     "metadata": {},
     "output_type": "execute_result"
    }
   ],
   "source": [
    "np.linspace(0, np.pi, 10) #0이상 3.14...인 파이값 사이에 10개의 값을 생성한다."
   ]
  },
  {
   "cell_type": "code",
   "execution_count": 18,
   "id": "30eaba24-9146-4cd6-bbf2-dc9894b6130f",
   "metadata": {},
   "outputs": [
    {
     "name": "stdout",
     "output_type": "stream",
     "text": [
      "[0. 0. 0. 0. 0. 0. 0. 0. 0. 0.]\n",
      "[1. 1. 1. 1. 1. 1. 1. 1. 1. 1.]\n"
     ]
    }
   ],
   "source": [
    "#초기화 함수\n",
    "print(np.zeros(10))\n",
    "print(np.ones(10))"
   ]
  },
  {
   "cell_type": "code",
   "execution_count": 19,
   "id": "4e464e44-b1d9-4593-b4bf-6429da3c441c",
   "metadata": {},
   "outputs": [
    {
     "data": {
      "text/plain": [
       "array([[0., 0., 0., 0., 0., 0., 0., 0., 0., 0.],\n",
       "       [0., 0., 0., 0., 0., 0., 0., 0., 0., 0.]])"
      ]
     },
     "execution_count": 19,
     "metadata": {},
     "output_type": "execute_result"
    }
   ],
   "source": [
    "np.zeros((2, 10)) #2행 10열의 배열을 만들고 모든 요소를 0으로 초기화."
   ]
  },
  {
   "cell_type": "code",
   "execution_count": 20,
   "id": "109209da-5d62-4642-b596-11a36bbe8903",
   "metadata": {},
   "outputs": [
    {
     "data": {
      "text/plain": [
       "array([[[1., 1.],\n",
       "        [1., 1.]],\n",
       "\n",
       "       [[1., 1.],\n",
       "        [1., 1.]]])"
      ]
     },
     "execution_count": 20,
     "metadata": {},
     "output_type": "execute_result"
    }
   ],
   "source": [
    "np.ones((2, 2, 2))"
   ]
  },
  {
   "cell_type": "code",
   "execution_count": 21,
   "id": "79b68529-6d75-4682-ad5a-018c55c3df7c",
   "metadata": {},
   "outputs": [
    {
     "data": {
      "text/plain": [
       "array([[1., 0., 0.],\n",
       "       [0., 1., 0.],\n",
       "       [0., 0., 1.]])"
      ]
     },
     "execution_count": 21,
     "metadata": {},
     "output_type": "execute_result"
    }
   ],
   "source": [
    "#단위 행렬 함수\n",
    "arrI = np.eye(3)\n",
    "arrI"
   ]
  },
  {
   "cell_type": "code",
   "execution_count": 22,
   "id": "1393944c-b89f-416b-855b-7a9c80a0ef41",
   "metadata": {},
   "outputs": [
    {
     "data": {
      "text/plain": [
       "(3, 3)"
      ]
     },
     "execution_count": 22,
     "metadata": {},
     "output_type": "execute_result"
    }
   ],
   "source": [
    "arrI.shape"
   ]
  },
  {
   "cell_type": "code",
   "execution_count": 23,
   "id": "d3a97d04-d4bc-4c0b-b2f2-ae2c33a79f5d",
   "metadata": {},
   "outputs": [
    {
     "data": {
      "text/plain": [
       "array(['1.5', '0.25'], dtype='<U4')"
      ]
     },
     "execution_count": 23,
     "metadata": {},
     "output_type": "execute_result"
    }
   ],
   "source": [
    "#문자열 데이터 배열\n",
    "np.array([\"1.5\", \"0.25\"]) #dtype='<U4'"
   ]
  },
  {
   "cell_type": "code",
   "execution_count": 24,
   "id": "980bc5c5-3c8c-4e4e-a4a6-2cfc9ef23bb8",
   "metadata": {},
   "outputs": [
    {
     "data": {
      "text/plain": [
       "array([1.5 , 0.25, 5.  ])"
      ]
     },
     "execution_count": 24,
     "metadata": {},
     "output_type": "execute_result"
    }
   ],
   "source": [
    "#문자열 데이터를 연산을 하기 위해서는 정수나 실수 형태로 변환해야 한다.\n",
    "arr = np.array([\"1.5\", \"0.25\", \"5\"])\n",
    "numArr = arr.astype(float)\n",
    "numArr"
   ]
  },
  {
   "cell_type": "code",
   "execution_count": 25,
   "id": "060ff2b1-31fd-4f3d-9e21-cd778ec5a18a",
   "metadata": {},
   "outputs": [
    {
     "data": {
      "text/plain": [
       "array([2.5 , 2.25, 8.  ])"
      ]
     },
     "execution_count": 25,
     "metadata": {},
     "output_type": "execute_result"
    }
   ],
   "source": [
    "numArr + np.array([1, 2, 3])"
   ]
  },
  {
   "cell_type": "code",
   "execution_count": 26,
   "id": "313a0856-e59f-437c-a5b6-0cff0d8a87be",
   "metadata": {},
   "outputs": [
    {
     "name": "stdout",
     "output_type": "stream",
     "text": [
      "[1 0 5]\n",
      "[1.5  0.25 5.  ]\n"
     ]
    }
   ],
   "source": [
    "intArr = numArr.astype(int)\n",
    "floatArr = numArr.astype(float)\n",
    "print(intArr) #소수점 아래를 버림. 지양할 타입\n",
    "print(floatArr) #온전한 형태로 출력됨 "
   ]
  },
  {
   "cell_type": "markdown",
   "id": "c78c97b6-f09e-4bf6-97a3-5eca8ec42aa4",
   "metadata": {},
   "source": [
    "#### 난수 무작위 추출\n",
    "- np.random.rand(a, b, c): 0부터 1사이의 실수를 랜덤으로 추출 후 배열. 1, 2, 3차원 모두 가능함\n",
    "- np.random.randint(c, d, n): c와 d 사이의 n개의 정수를 랜덤으로 추출 후 배열. 이때 d는 포함 안 됨\n",
    "- 이때 n에 정수 대신 (e, f) 같은 방식으로 tuple을 넣어 배열을 만들 수 있다."
   ]
  },
  {
   "cell_type": "code",
   "execution_count": 27,
   "id": "5256241c-0cbe-463f-8183-cec2eb1b779c",
   "metadata": {},
   "outputs": [
    {
     "data": {
      "text/plain": [
       "array([0.19517298, 0.74078605])"
      ]
     },
     "execution_count": 27,
     "metadata": {},
     "output_type": "execute_result"
    }
   ],
   "source": [
    "np.random.rand(2)"
   ]
  },
  {
   "cell_type": "code",
   "execution_count": 28,
   "id": "30c0e4af-5a62-497a-9d82-c920a7f759e4",
   "metadata": {},
   "outputs": [
    {
     "data": {
      "text/plain": [
       "array([[[0.05838049, 0.77316909, 0.43440915, 0.79715024],\n",
       "        [0.21047321, 0.63574471, 0.75975147, 0.9792842 ],\n",
       "        [0.39140929, 0.87225704, 0.94180161, 0.18698488]],\n",
       "\n",
       "       [[0.58026044, 0.37524648, 0.07291529, 0.58106713],\n",
       "        [0.8274608 , 0.71057556, 0.38917515, 0.42376158],\n",
       "        [0.57083032, 0.25009017, 0.75198329, 0.21797765]]])"
      ]
     },
     "execution_count": 28,
     "metadata": {},
     "output_type": "execute_result"
    }
   ],
   "source": [
    "np.random.rand(2, 3, 4)"
   ]
  },
  {
   "cell_type": "code",
   "execution_count": 29,
   "id": "a99cdc7b-2efa-4481-8c56-a559734d1363",
   "metadata": {},
   "outputs": [
    {
     "data": {
      "text/plain": [
       "array([40, 86, 65, 28, 33])"
      ]
     },
     "execution_count": 29,
     "metadata": {},
     "output_type": "execute_result"
    }
   ],
   "source": [
    "np.random.randint(1, 100, 5)"
   ]
  },
  {
   "cell_type": "code",
   "execution_count": 30,
   "id": "07caba90-0987-42b9-81b2-23331fb2adb1",
   "metadata": {},
   "outputs": [
    {
     "data": {
      "text/plain": [
       "array([[[71, 83, 87, 39],\n",
       "        [11, 60, 17, 25],\n",
       "        [59, 17, 96, 51]],\n",
       "\n",
       "       [[93, 71, 46, 54],\n",
       "        [26, 50, 47, 55],\n",
       "        [21, 27, 35, 16]]])"
      ]
     },
     "execution_count": 30,
     "metadata": {},
     "output_type": "execute_result"
    }
   ],
   "source": [
    "np.random.randint(1, 100, (2, 3, 4))"
   ]
  },
  {
   "cell_type": "markdown",
   "id": "0c77ee90-38db-4e8b-807c-de52657cf618",
   "metadata": {},
   "source": [
    "#### 배열의 연산\n",
    "- 합, 평균, 표준편차, 분산, 최솟값, 최댓값, 누적합, 누적곱 메서드가 존재한다\n",
    "- 기술통계량(Descipttive Statistic): 현재 데이터 상태를 표현하는 통계량"
   ]
  },
  {
   "cell_type": "code",
   "execution_count": 31,
   "id": "e32c9f49-9735-4a3e-8d71-587a37a15e07",
   "metadata": {},
   "outputs": [
    {
     "name": "stdout",
     "output_type": "stream",
     "text": [
      "arr3는 [0 1 2 3 4]\n",
      "10\n",
      "2.0\n",
      "1.4142135623730951\n",
      "2.0\n"
     ]
    }
   ],
   "source": [
    "arr3 = np.arange(5)\n",
    "print(f'arr3는 {arr3}')\n",
    "print(arr3.sum())\n",
    "print(arr3.mean()) #평균\n",
    "print(arr3.std()) #표준편차\n",
    "print(arr3.var()) #분산"
   ]
  },
  {
   "cell_type": "markdown",
   "id": "08da7d69-02d8-4bbd-b960-a623ad2862ac",
   "metadata": {},
   "source": [
    "#### 행렬연산"
   ]
  },
  {
   "cell_type": "code",
   "execution_count": 32,
   "id": "9a60ed33-6fa6-4c13-bf6e-a50836af6724",
   "metadata": {},
   "outputs": [
    {
     "name": "stdout",
     "output_type": "stream",
     "text": [
      "[[2 3]\n",
      " [4 5]]\n",
      "[[6 7]\n",
      " [8 9]]\n"
     ]
    }
   ],
   "source": [
    "A = np.array([2, 3, 4, 5]).reshape(2, 2)\n",
    "B = np.array([6, 7, 8, 9]).reshape(2, 2)\n",
    "print(A)\n",
    "print(B)"
   ]
  },
  {
   "cell_type": "code",
   "execution_count": 33,
   "id": "c05ad447-589f-4cb6-965d-4e44051e4e65",
   "metadata": {},
   "outputs": [
    {
     "data": {
      "text/plain": [
       "array([[36, 41],\n",
       "       [64, 73]])"
      ]
     },
     "execution_count": 33,
     "metadata": {},
     "output_type": "execute_result"
    }
   ],
   "source": [
    "# 행렬의 곱셈\n",
    "A.dot(B)"
   ]
  },
  {
   "cell_type": "code",
   "execution_count": 34,
   "id": "a0f4991e-ecfe-448d-a4bb-1f6bcb44cc85",
   "metadata": {},
   "outputs": [
    {
     "data": {
      "text/plain": [
       "110"
      ]
     },
     "execution_count": 34,
     "metadata": {},
     "output_type": "execute_result"
    }
   ],
   "source": [
    "# 배열의 곱셈 기능도 존재함\n",
    "a = np.array([2, 3, 4, 5])\n",
    "b = np.array([6, 7, 8, 9])\n",
    "a.dot(b)"
   ]
  },
  {
   "cell_type": "code",
   "execution_count": 35,
   "id": "d9a22669-63de-4696-abdc-ebfa596988be",
   "metadata": {},
   "outputs": [
    {
     "data": {
      "text/plain": [
       "array([[2, 4],\n",
       "       [3, 5]])"
      ]
     },
     "execution_count": 35,
     "metadata": {},
     "output_type": "execute_result"
    }
   ],
   "source": [
    "#전치행렬 -> 행렬의 행과 열을 바꾼 행랼\n",
    "A.transpose()"
   ]
  },
  {
   "cell_type": "code",
   "execution_count": 36,
   "id": "11a3f679-fbfb-4ff0-a5ba-b4b02578ca36",
   "metadata": {},
   "outputs": [
    {
     "data": {
      "text/plain": [
       "array([[-2.5,  1.5],\n",
       "       [ 2. , -1. ]])"
      ]
     },
     "execution_count": 36,
     "metadata": {},
     "output_type": "execute_result"
    }
   ],
   "source": [
    "#역행렬\n",
    "np.linalg.inv(A)"
   ]
  },
  {
   "cell_type": "markdown",
   "id": "2b6ae1ef-1289-4144-a68b-883135a80768",
   "metadata": {},
   "source": [
    "#### 배열의 인덱싱과 슬라이싱\n",
    "\n",
    "- 파이썬 시퀀스 자료형의 인덱싱과 슬라이싱과 유사함"
   ]
  },
  {
   "cell_type": "code",
   "execution_count": 43,
   "id": "63d6f0ee-9968-4286-a5ee-993dc0aa8743",
   "metadata": {},
   "outputs": [
    {
     "name": "stdout",
     "output_type": "stream",
     "text": [
      "0\n",
      "5\n"
     ]
    }
   ],
   "source": [
    "a1 = np.array([0, 1, 2, 3, 40, 5])\n",
    "\n",
    "print(a1[0])\n",
    "print(a1[-1])"
   ]
  },
  {
   "cell_type": "code",
   "execution_count": 44,
   "id": "5d3ed966-6a23-4ea7-9a79-4f050c35ec5f",
   "metadata": {},
   "outputs": [
    {
     "data": {
      "text/plain": [
       "array([ 0,  2, 40])"
      ]
     },
     "execution_count": 44,
     "metadata": {},
     "output_type": "execute_result"
    }
   ],
   "source": [
    "#리스트를 통한 추출\n",
    "a1[[0, 2, 4]]"
   ]
  },
  {
   "cell_type": "code",
   "execution_count": 48,
   "id": "9efd9bf2-fa51-4643-926d-cab30293b220",
   "metadata": {},
   "outputs": [
    {
     "data": {
      "text/plain": [
       "array([[10, 20, 30],\n",
       "       [40, 50, 60],\n",
       "       [70, 80, 90]])"
      ]
     },
     "execution_count": 48,
     "metadata": {},
     "output_type": "execute_result"
    }
   ],
   "source": [
    "a2 = np.arange(10, 100, 10).reshape(3, 3)\n",
    "a2"
   ]
  },
  {
   "cell_type": "markdown",
   "id": "9bdaad30-ab5a-4af1-88f9-e06d94623980",
   "metadata": {},
   "source": [
    "2차원 배열의 인덱스 위치는 다음과 같다\n",
    "- 배열[열, 행]\n",
    "<br>\n",
    "(0, 0) (0, 1) (0, 2)<br>\n",
    "(1, 0) (1, 1) (1, 2)<br>\n",
    "(2, 0) (2, 1) (2, 2)<br>"
   ]
  },
  {
   "cell_type": "code",
   "execution_count": 49,
   "id": "128c9d93-90c5-4777-a01a-c0da1bb52f65",
   "metadata": {},
   "outputs": [
    {
     "name": "stdout",
     "output_type": "stream",
     "text": [
      "20\n",
      "60\n",
      "80\n"
     ]
    }
   ],
   "source": [
    "print(a2[0, 1])\n",
    "print(a2[1, 2])\n",
    "print(a2[2, 1])"
   ]
  },
  {
   "cell_type": "code",
   "execution_count": 50,
   "id": "fddcba2b-d6fb-459c-8532-b394af80dc62",
   "metadata": {},
   "outputs": [
    {
     "data": {
      "text/plain": [
       "array([[10, 20, 60],\n",
       "       [40, 50, 60],\n",
       "       [70, 80, 90]])"
      ]
     },
     "execution_count": 50,
     "metadata": {},
     "output_type": "execute_result"
    }
   ],
   "source": [
    "#배열값 업데이트\n",
    "a2[0, 2] = 60\n",
    "a2"
   ]
  },
  {
   "cell_type": "code",
   "execution_count": 52,
   "id": "96c95afa-1a6e-47be-a18a-b9cd50ff0906",
   "metadata": {},
   "outputs": [
    {
     "data": {
      "text/plain": [
       "array([40, 50, 60])"
      ]
     },
     "execution_count": 52,
     "metadata": {},
     "output_type": "execute_result"
    }
   ],
   "source": [
    "#행 하나 전체 출력\n",
    "a2[1]"
   ]
  },
  {
   "cell_type": "code",
   "execution_count": 55,
   "id": "9606f921-0fb8-403e-8d87-67f46dfa4d17",
   "metadata": {},
   "outputs": [
    {
     "data": {
      "text/plain": [
       "array([[10, 20, 60],\n",
       "       [ 1,  2,  3],\n",
       "       [70, 80, 90]])"
      ]
     },
     "execution_count": 55,
     "metadata": {},
     "output_type": "execute_result"
    }
   ],
   "source": [
    "#행 전체 업데이트\n",
    "a2[1] = np.array([1, 2, 3]) \n",
    "a2"
   ]
  },
  {
   "cell_type": "code",
   "execution_count": 64,
   "id": "59bad7fc-5fbe-4c67-8e8e-ad47760df71f",
   "metadata": {},
   "outputs": [
    {
     "name": "stdout",
     "output_type": "stream",
     "text": [
      "[[10 20 30]\n",
      " [40 50 60]\n",
      " [70 80 90]]\n"
     ]
    },
    {
     "data": {
      "text/plain": [
       "'\\n(0, 0) (0, 1) (0, 2)\\n\\n(1, 0) (1, 1) (1, 2)\\n\\n(2, 0) (2, 1) (2, 2)\\n\\n'"
      ]
     },
     "execution_count": 64,
     "metadata": {},
     "output_type": "execute_result"
    }
   ],
   "source": [
    "#2차원 배열의 행과 열 위치를 지정해서 원소 추출\n",
    "a2 = np.arange(10, 100, 10).reshape(3, 3)\n",
    "print(a2)\n",
    "\"\"\"\n",
    "(0, 0) (0, 1) (0, 2)\n",
    "(0, 0) (1, 1) (1, 2)\n",
    "(2, 0) (2, 1) (2, 2)\n",
    "\"\"\""
   ]
  },
  {
   "cell_type": "code",
   "execution_count": 78,
   "id": "d1150add-f691-4209-b523-21f72cee1473",
   "metadata": {},
   "outputs": [
    {
     "data": {
      "text/plain": [
       "array([10, 80])"
      ]
     },
     "execution_count": 78,
     "metadata": {},
     "output_type": "execute_result"
    }
   ],
   "source": [
    "a2[[0,2],[0,1]]\n",
    "# [(0, 0) 위치의 원소, (2,1)위치의 원소] 를 생성\n",
    "# 배열[열, 행]"
   ]
  },
  {
   "cell_type": "code",
   "execution_count": 83,
   "id": "9669b044-60e6-4851-a762-82d6c9b7cfc7",
   "metadata": {},
   "outputs": [
    {
     "data": {
      "text/plain": [
       "array([ 0,  1,  2,  3,  4,  5,  6,  7,  8,  9, 10])"
      ]
     },
     "execution_count": 83,
     "metadata": {},
     "output_type": "execute_result"
    }
   ],
   "source": [
    "b1 = np.arange(0, 11)\n",
    "b1"
   ]
  },
  {
   "cell_type": "code",
   "execution_count": 84,
   "id": "8bbac137-8ba6-40cd-8f48-2866823ebb16",
   "metadata": {},
   "outputs": [
    {
     "data": {
      "text/plain": [
       "array([1, 2, 3])"
      ]
     },
     "execution_count": 84,
     "metadata": {},
     "output_type": "execute_result"
    }
   ],
   "source": [
    "b1[1:4]"
   ]
  },
  {
   "cell_type": "code",
   "execution_count": 88,
   "id": "67bb3f6a-5a61-4201-80ea-8e4f8848c7fc",
   "metadata": {},
   "outputs": [
    {
     "data": {
      "text/plain": [
       "array([ 0,  2,  4,  6,  8, 10])"
      ]
     },
     "execution_count": 88,
     "metadata": {},
     "output_type": "execute_result"
    }
   ],
   "source": [
    "b1[0:11:2] #0이상 11미만, 2간격"
   ]
  },
  {
   "cell_type": "code",
   "execution_count": 92,
   "id": "0bfc36f2-db85-4f8b-a5d7-fb0459b646fc",
   "metadata": {},
   "outputs": [
    {
     "data": {
      "text/plain": [
       "array([ 0, 10, 20, 30,  4,  5,  6,  7,  8,  9, 10])"
      ]
     },
     "execution_count": 92,
     "metadata": {},
     "output_type": "execute_result"
    }
   ],
   "source": [
    "b1[1:4] = np.array([10, 20, 30])\n",
    "b1"
   ]
  },
  {
   "cell_type": "code",
   "execution_count": 96,
   "id": "83e140a7-a915-46ea-84b9-ee76ab8f53ec",
   "metadata": {},
   "outputs": [
    {
     "data": {
      "text/plain": [
       "array([ 0, 10, 20, 30, 80, 80, 80, 80, 80, 80, 80])"
      ]
     },
     "execution_count": 96,
     "metadata": {},
     "output_type": "execute_result"
    }
   ],
   "source": [
    "b1[4:11] = 80\n",
    "b1"
   ]
  },
  {
   "cell_type": "code",
   "execution_count": 100,
   "id": "e6abcdc7-bda2-4e2b-a3a3-aceb8ea947c3",
   "metadata": {},
   "outputs": [
    {
     "data": {
      "text/plain": [
       "array([[10, 20, 30],\n",
       "       [40, 50, 60],\n",
       "       [70, 80, 90]])"
      ]
     },
     "execution_count": 100,
     "metadata": {},
     "output_type": "execute_result"
    }
   ],
   "source": [
    "b2 = np.arange(10, 100, 10).reshape(3, 3)\n",
    "b2"
   ]
  },
  {
   "cell_type": "code",
   "execution_count": 104,
   "id": "666e1ab8-9e41-4ab0-9d86-81845c13cc35",
   "metadata": {},
   "outputs": [
    {
     "data": {
      "text/plain": [
       "array([[20, 30],\n",
       "       [50, 60]])"
      ]
     },
     "execution_count": 104,
     "metadata": {},
     "output_type": "execute_result"
    }
   ],
   "source": [
    "b2[0:2, 1:3] #열: 0부터 1까지, 행: 1부터 2까지"
   ]
  },
  {
   "cell_type": "code",
   "execution_count": 107,
   "id": "d635bf6f-8a26-48f5-8f86-50a44f64da1b",
   "metadata": {},
   "outputs": [
    {
     "data": {
      "text/plain": [
       "'b'"
      ]
     },
     "execution_count": 107,
     "metadata": {},
     "output_type": "execute_result"
    }
   ],
   "source": [
    "list1 = [1, 2, 3, [\"a\",\"b\"]]\n",
    "list1[3][1] #중첩 리스트의 3번째 인덱스의 1번째 인덱스"
   ]
  },
  {
   "cell_type": "code",
   "execution_count": 109,
   "id": "62712dd2-1ba5-4aa8-a27e-30f9b09365c9",
   "metadata": {},
   "outputs": [
    {
     "name": "stdout",
     "output_type": "stream",
     "text": [
      "[40 50 60]\n",
      "[40 50]\n"
     ]
    }
   ],
   "source": [
    "b2 = np.arange(10, 100, 10).reshape(3, 3)\n",
    "b2\n",
    "print(b2[1])\n",
    "print(b2[1][0:2]) #b2의 1인덱스 행의 0부터 2미만 행 원소들"
   ]
  },
  {
   "cell_type": "markdown",
   "id": "f45fbd38-c806-444f-8d37-69708c93fa13",
   "metadata": {},
   "source": [
    "#### 배열 조건문"
   ]
  },
  {
   "cell_type": "code",
   "execution_count": 69,
   "id": "95deaa7b-5e74-4cf9-9717-34faa2e3b4c8",
   "metadata": {},
   "outputs": [
    {
     "data": {
      "text/plain": [
       "array([0, 1, 2, 3, 4, 5, 6])"
      ]
     },
     "execution_count": 69,
     "metadata": {},
     "output_type": "execute_result"
    }
   ],
   "source": [
    "a3 = np.array([0, 1, 2, 3, 4, 5, 6])\n",
    "a3"
   ]
  },
  {
   "cell_type": "code",
   "execution_count": 74,
   "id": "6bb7569e-5f4a-437f-b1fc-115ed0178b9c",
   "metadata": {},
   "outputs": [
    {
     "data": {
      "text/plain": [
       "array([False, False, False, False,  True,  True,  True])"
      ]
     },
     "execution_count": 74,
     "metadata": {},
     "output_type": "execute_result"
    }
   ],
   "source": [
    "a3 > 3"
   ]
  },
  {
   "cell_type": "code",
   "execution_count": 75,
   "id": "8101a37f-e8ab-4e5e-a3f5-204464abce98",
   "metadata": {},
   "outputs": [
    {
     "data": {
      "text/plain": [
       "array([4, 5, 6])"
      ]
     },
     "execution_count": 75,
     "metadata": {},
     "output_type": "execute_result"
    }
   ],
   "source": [
    "a3[a3 > 3] #True 값만 추출"
   ]
  },
  {
   "cell_type": "code",
   "execution_count": 76,
   "id": "c66443e4-51aa-44bb-9862-3567144a3f18",
   "metadata": {},
   "outputs": [
    {
     "data": {
      "text/plain": [
       "array([ True, False,  True, False,  True, False,  True])"
      ]
     },
     "execution_count": 76,
     "metadata": {},
     "output_type": "execute_result"
    }
   ],
   "source": [
    "a3 % 2 == 0 #s나머지가 0인 원소"
   ]
  },
  {
   "cell_type": "code",
   "execution_count": 77,
   "id": "0e7f08fe-6b1c-464a-bccd-0c900839efeb",
   "metadata": {},
   "outputs": [
    {
     "data": {
      "text/plain": [
       "array([0, 2, 4, 6])"
      ]
     },
     "execution_count": 77,
     "metadata": {},
     "output_type": "execute_result"
    }
   ],
   "source": [
    "a3[a3 % 2 == 0]"
   ]
  },
  {
   "cell_type": "markdown",
   "id": "090fd41c-c7c4-4457-9825-b447774495f5",
   "metadata": {},
   "source": [
    "#### numpy의 조건문\n",
    "- np.where(조건, x, y) : 단일 조건문. 조건에 참인 경우 x, 조건에 거짓인 경우 y를 반환한다.\n",
    "- np.select(조건리스트, 결과리스트, 디폴트값): 다중 조건문. 조건리스트와 결과리스트를 불러오고, 전부 false인 경우 디폴트를 반환한다."
   ]
  },
  {
   "cell_type": "code",
   "execution_count": 111,
   "id": "eb69e658-9eb2-42aa-a7ff-d46f0c828026",
   "metadata": {},
   "outputs": [
    {
     "data": {
      "text/plain": [
       "array([0, 1, 2, 3, 4, 5, 6, 7, 8, 9])"
      ]
     },
     "execution_count": 111,
     "metadata": {},
     "output_type": "execute_result"
    }
   ],
   "source": [
    "arr1 = np.arange(10)\n",
    "arr1"
   ]
  },
  {
   "cell_type": "code",
   "execution_count": 115,
   "id": "9b0895aa-f263-4798-874d-67571137596f",
   "metadata": {},
   "outputs": [
    {
     "data": {
      "text/plain": [
       "array([ 0,  1,  2,  3,  4, 50, 60, 70, 80, 90])"
      ]
     },
     "execution_count": 115,
     "metadata": {},
     "output_type": "execute_result"
    }
   ],
   "source": [
    "np.where(arr1 < 5, arr1, arr1*10) #5보다 작으면 arr1 그대로, 크거나 같으면 10을 곱한다."
   ]
  },
  {
   "cell_type": "code",
   "execution_count": 116,
   "id": "2e1b276d-0aa9-42ae-992f-50e5159bd8ab",
   "metadata": {},
   "outputs": [
    {
     "data": {
      "text/plain": [
       "array([0, 1, 2, 3, 4, 5, 6, 7, 8, 9])"
      ]
     },
     "execution_count": 116,
     "metadata": {},
     "output_type": "execute_result"
    }
   ],
   "source": [
    "arr2 = np.arange(10)\n",
    "arr2"
   ]
  },
  {
   "cell_type": "code",
   "execution_count": 118,
   "id": "12414143-c3ac-4d05-b89f-8e1d1f2c5eba",
   "metadata": {},
   "outputs": [
    {
     "data": {
      "text/plain": [
       "array([ 0,  0,  2,  3,  4,  5, 60, 70, 80, 90])"
      ]
     },
     "execution_count": 118,
     "metadata": {},
     "output_type": "execute_result"
    }
   ],
   "source": [
    "comdList = [arr2 > 5, arr2 == 1]\n",
    "choiceList = [arr2*10, 0]\n",
    "\n",
    "np.select(comdList, choiceList, default = arr2)"
   ]
  }
 ],
 "metadata": {
  "kernelspec": {
   "display_name": "Python 3 (ipykernel)",
   "language": "python",
   "name": "python3"
  },
  "language_info": {
   "codemirror_mode": {
    "name": "ipython",
    "version": 3
   },
   "file_extension": ".py",
   "mimetype": "text/x-python",
   "name": "python",
   "nbconvert_exporter": "python",
   "pygments_lexer": "ipython3",
   "version": "3.12.1"
  }
 },
 "nbformat": 4,
 "nbformat_minor": 5
}
