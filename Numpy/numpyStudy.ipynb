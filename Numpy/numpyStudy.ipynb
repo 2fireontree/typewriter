{
 "cells": [
  {
   "cell_type": "code",
   "execution_count": 2,
   "id": "d96edf9e-bbd0-4f2e-b5bb-43c0722b0c5e",
   "metadata": {},
   "outputs": [
    {
     "data": {
      "text/plain": [
       "'1.26.3'"
      ]
     },
     "execution_count": 2,
     "metadata": {},
     "output_type": "execute_result"
    }
   ],
   "source": [
    "import numpy as np\n",
    "np.__version__"
   ]
  },
  {
   "cell_type": "markdown",
   "id": "c3e8493c-6f89-4e96-81fe-4cd83762d22d",
   "metadata": {},
   "source": [
    "#### numpy\n",
    "\n",
    "- 일반적인 배열 + 배열 연산자를 쓰면 배열1배열2 형태로 출력됨\n",
    "- numpy를 이용하면 배열 안의 요소들의 연산을 쉽게 할 수 있음"
   ]
  },
  {
   "cell_type": "code",
   "execution_count": 3,
   "id": "6f1cd50f-31d2-4e99-8a53-cd96b211eb58",
   "metadata": {},
   "outputs": [
    {
     "data": {
      "text/plain": [
       "[1, 2, 3, 4, 3, 4, 5, 6]"
      ]
     },
     "execution_count": 3,
     "metadata": {},
     "output_type": "execute_result"
    }
   ],
   "source": [
    "num1 = [1, 2, 3, 4]\n",
    "num2 = [3, 4, 5, 6]\n",
    "num1 + num2"
   ]
  },
  {
   "cell_type": "code",
   "execution_count": 4,
   "id": "ac24dada-5946-4950-aa7a-ef071c593924",
   "metadata": {},
   "outputs": [
    {
     "data": {
      "text/plain": [
       "array([1, 2, 3, 4])"
      ]
     },
     "execution_count": 4,
     "metadata": {},
     "output_type": "execute_result"
    }
   ],
   "source": [
    "arr1 = np.array(num1)\n",
    "arr1"
   ]
  },
  {
   "cell_type": "code",
   "execution_count": 5,
   "id": "a0116939-67e1-41ae-8e03-1cd711f10d91",
   "metadata": {},
   "outputs": [
    {
     "data": {
      "text/plain": [
       "array([3, 4, 5, 6])"
      ]
     },
     "execution_count": 5,
     "metadata": {},
     "output_type": "execute_result"
    }
   ],
   "source": [
    "arr2 = np.array(num2)\n",
    "arr2"
   ]
  },
  {
   "cell_type": "code",
   "execution_count": 6,
   "id": "9a0f0cfc-bc1b-4362-8ccd-e4eceb18edf5",
   "metadata": {},
   "outputs": [
    {
     "name": "stdout",
     "output_type": "stream",
     "text": [
      "[ 4  6  8 10]\n",
      "[-2 -2 -2 -2]\n",
      "[ 3  8 15 24]\n",
      "[0.33333333 0.5        0.6        0.66666667]\n"
     ]
    }
   ],
   "source": [
    "print(arr1 + arr2)\n",
    "print(arr1 - arr2)\n",
    "print(arr1 * arr2)\n",
    "print(arr1 / arr2)\n",
    "#배열 개수가 다르면 에러가 나옴"
   ]
  },
  {
   "cell_type": "code",
   "execution_count": 7,
   "id": "f47fa4fa-9a25-4396-b5b0-5d27cc29313c",
   "metadata": {},
   "outputs": [
    {
     "data": {
      "text/plain": [
       "dtype('float64')"
      ]
     },
     "execution_count": 7,
     "metadata": {},
     "output_type": "execute_result"
    }
   ],
   "source": [
    "np.array([0.5, 1, 0.01, 8]).dtype # float 비트단위 연산으로 출력됨"
   ]
  },
  {
   "cell_type": "code",
   "execution_count": 8,
   "id": "92d9e0cb-dd08-45c8-af34-2937973e7261",
   "metadata": {},
   "outputs": [
    {
     "data": {
      "text/plain": [
       "array([0, 1, 2, 3])"
      ]
     },
     "execution_count": 8,
     "metadata": {},
     "output_type": "execute_result"
    }
   ],
   "source": [
    "data1 = [0, 1, 2, 3]\n",
    "a1 = np.array(data1)\n",
    "a1"
   ]
  },
  {
   "cell_type": "code",
   "execution_count": 9,
   "id": "f79e9c9d-b8e8-4437-9ebd-d1ee14a26784",
   "metadata": {},
   "outputs": [
    {
     "name": "stdout",
     "output_type": "stream",
     "text": [
      "int32\n"
     ]
    }
   ],
   "source": [
    "print(a1.dtype) #int32"
   ]
  },
  {
   "cell_type": "raw",
   "id": "26846db0-abae-49d1-8f59-cd86d55b2e64",
   "metadata": {},
   "source": [
    "#### Numpy 배열 생성\n",
    "\n",
    "np.arange(시작값, 끝값, 간격)\n",
    "출력: array([시작값, (...간격...), 끝값-1])"
   ]
  },
  {
   "cell_type": "code",
   "execution_count": 10,
   "id": "90880fd0-8d9d-46f2-90f2-e49fe54f52a5",
   "metadata": {},
   "outputs": [
    {
     "name": "stdout",
     "output_type": "stream",
     "text": [
      "[3 4 5 6 7 8 9]\n",
      "[1 3 5 7 9]\n",
      "[0 1 2 3 4 5 6 7 8 9]\n"
     ]
    }
   ],
   "source": [
    "print(np.arange(3, 10))\n",
    "print(np.arange(1, 10, 2))\n",
    "print(np.arange(10)) #시작인덱스가 0이면 생략가능"
   ]
  },
  {
   "cell_type": "markdown",
   "id": "35f8d7d3-e7ff-4954-86fa-2defee17738e",
   "metadata": {},
   "source": [
    "- np.arange(12) #1차원 배열\n",
    "- np.arange(12).reshape(a, b) #2차원 배열\n",
    "- np.arange(12).reshape(c, d, e) #3차원 배열\n",
    "- reshape를 통해서 다른 차원으로 배열로 변경할 수 있다.\n",
    "- 이때 a * b = c * d * e = 12. 크기는 유지 되어야 한다.\n",
    "- 만약 다르면 에러가 발생함"
   ]
  },
  {
   "cell_type": "code",
   "execution_count": 11,
   "id": "b99faceb-6284-4427-843e-c458ba3fbac5",
   "metadata": {},
   "outputs": [
    {
     "data": {
      "text/plain": [
       "array([[ 0,  1,  2],\n",
       "       [ 3,  4,  5],\n",
       "       [ 6,  7,  8],\n",
       "       [ 9, 10, 11]])"
      ]
     },
     "execution_count": 11,
     "metadata": {},
     "output_type": "execute_result"
    }
   ],
   "source": [
    "np.arange(12).reshape(4, 3)"
   ]
  },
  {
   "cell_type": "code",
   "execution_count": 12,
   "id": "c39f6e20-0000-41b2-a507-92d4700aca5a",
   "metadata": {},
   "outputs": [
    {
     "name": "stdout",
     "output_type": "stream",
     "text": [
      "[ 0  1  2  3  4  5  6  7  8  9 10 11]\n",
      "\n",
      "[[ 0  1  2  3]\n",
      " [ 4  5  6  7]\n",
      " [ 8  9 10 11]]\n",
      "\n",
      "[[[ 0  1]\n",
      "  [ 2  3]\n",
      "  [ 4  5]]\n",
      "\n",
      " [[ 6  7]\n",
      "  [ 8  9]\n",
      "  [10 11]]]\n"
     ]
    }
   ],
   "source": [
    "print(np.arange(12))\n",
    "print(\"\")\n",
    "print(np.arange(12).reshape(3, 4))\n",
    "print(\"\")\n",
    "print(np.arange(12).reshape(2, 3, 2))"
   ]
  },
  {
   "cell_type": "code",
   "execution_count": 13,
   "id": "bbe454f5-03a6-4591-9c2e-a5af262beb48",
   "metadata": {},
   "outputs": [
    {
     "data": {
      "text/plain": [
       "(3, 3, 3)"
      ]
     },
     "execution_count": 13,
     "metadata": {},
     "output_type": "execute_result"
    }
   ],
   "source": [
    "b1 = np.arange(27).reshape(3, 3, 3)\n",
    "b1.shape #shape를 통해서 배열의 차원을 확인할 수 있다."
   ]
  },
  {
   "cell_type": "code",
   "execution_count": 14,
   "id": "9cebe30e-84bc-462f-bc62-c41e495d21a2",
   "metadata": {},
   "outputs": [
    {
     "data": {
      "text/plain": [
       "(27,)"
      ]
     },
     "execution_count": 14,
     "metadata": {},
     "output_type": "execute_result"
    }
   ],
   "source": [
    "b2 = np.arange(27)\n",
    "b2.shape #1차원 배열은 (27,) 로 출력됨"
   ]
  },
  {
   "cell_type": "markdown",
   "id": "54b44d46-0f41-4b41-adca-e95bc0eac7e9",
   "metadata": {},
   "source": [
    "#### np.linspace()\n",
    "- np.linspapce(시작값, 끝값, 배열의 길이)\n",
    "- 배열의 길이 = 추출할 값의 개수\n",
    "- np.linspace(0, 10, 5) #0이상 10 이하의 균일한 간격의 실수 5개의 배열을 생성한다.\n",
    "- np.arange(0, 11, 2.5) #0이상 11 미만의 2.5 간격의 수의 배열을 생성한다.\n",
    "- 차이를 알아두자"
   ]
  },
  {
   "cell_type": "code",
   "execution_count": 15,
   "id": "91eaf280-269c-4625-9f85-d3b5c51b39ca",
   "metadata": {},
   "outputs": [
    {
     "data": {
      "text/plain": [
       "array([ 0. ,  2.5,  5. ,  7.5, 10. ])"
      ]
     },
     "execution_count": 15,
     "metadata": {},
     "output_type": "execute_result"
    }
   ],
   "source": [
    "np.arange(0, 11, 2.5)"
   ]
  },
  {
   "cell_type": "code",
   "execution_count": 16,
   "id": "bd84d7ae-0908-4039-80b5-2ed380d1ca6a",
   "metadata": {},
   "outputs": [
    {
     "data": {
      "text/plain": [
       "array([ 0. ,  2.5,  5. ,  7.5, 10. ])"
      ]
     },
     "execution_count": 16,
     "metadata": {},
     "output_type": "execute_result"
    }
   ],
   "source": [
    "np.linspace(0, 10, 5)"
   ]
  },
  {
   "cell_type": "code",
   "execution_count": 17,
   "id": "8d3d055c-0bf8-4dce-bace-c1933c79a1f5",
   "metadata": {},
   "outputs": [
    {
     "name": "stdout",
     "output_type": "stream",
     "text": [
      "[ 0.   2.5  5.   7.5 10. ]\n",
      "[ 0.   2.5  5.   7.5 10. ]\n"
     ]
    }
   ],
   "source": [
    "print(np.arange(0, 11, 2.5))\n",
    "print(np.linspace(0, 10, 5))\n",
    "#출력 모양은 같지만 실제로는 다름"
   ]
  },
  {
   "cell_type": "code",
   "execution_count": 18,
   "id": "6334cc1b-2d30-4e40-b934-2ecf274e49b2",
   "metadata": {},
   "outputs": [
    {
     "data": {
      "text/plain": [
       "array([0.        , 0.34906585, 0.6981317 , 1.04719755, 1.3962634 ,\n",
       "       1.74532925, 2.0943951 , 2.44346095, 2.7925268 , 3.14159265])"
      ]
     },
     "execution_count": 18,
     "metadata": {},
     "output_type": "execute_result"
    }
   ],
   "source": [
    "np.linspace(0, np.pi, 10) #0이상 3.14...인 파이값 사이에 10개의 값을 생성한다."
   ]
  },
  {
   "cell_type": "code",
   "execution_count": 19,
   "id": "30eaba24-9146-4cd6-bbf2-dc9894b6130f",
   "metadata": {},
   "outputs": [
    {
     "name": "stdout",
     "output_type": "stream",
     "text": [
      "[0. 0. 0. 0. 0. 0. 0. 0. 0. 0.]\n",
      "[1. 1. 1. 1. 1. 1. 1. 1. 1. 1.]\n"
     ]
    }
   ],
   "source": [
    "#초기화 함수\n",
    "print(np.zeros(10))\n",
    "print(np.ones(10))"
   ]
  },
  {
   "cell_type": "code",
   "execution_count": 20,
   "id": "4e464e44-b1d9-4593-b4bf-6429da3c441c",
   "metadata": {},
   "outputs": [
    {
     "data": {
      "text/plain": [
       "array([[0., 0., 0., 0., 0., 0., 0., 0., 0., 0.],\n",
       "       [0., 0., 0., 0., 0., 0., 0., 0., 0., 0.]])"
      ]
     },
     "execution_count": 20,
     "metadata": {},
     "output_type": "execute_result"
    }
   ],
   "source": [
    "np.zeros((2, 10)) #2행 10열의 배열을 만들고 모든 요소를 0으로 초기화."
   ]
  },
  {
   "cell_type": "code",
   "execution_count": 21,
   "id": "109209da-5d62-4642-b596-11a36bbe8903",
   "metadata": {},
   "outputs": [
    {
     "data": {
      "text/plain": [
       "array([[[1., 1.],\n",
       "        [1., 1.]],\n",
       "\n",
       "       [[1., 1.],\n",
       "        [1., 1.]]])"
      ]
     },
     "execution_count": 21,
     "metadata": {},
     "output_type": "execute_result"
    }
   ],
   "source": [
    "np.ones((2, 2, 2))"
   ]
  },
  {
   "cell_type": "code",
   "execution_count": 22,
   "id": "79b68529-6d75-4682-ad5a-018c55c3df7c",
   "metadata": {},
   "outputs": [
    {
     "data": {
      "text/plain": [
       "array([[1., 0., 0.],\n",
       "       [0., 1., 0.],\n",
       "       [0., 0., 1.]])"
      ]
     },
     "execution_count": 22,
     "metadata": {},
     "output_type": "execute_result"
    }
   ],
   "source": [
    "#단위 행렬 함수\n",
    "arrI = np.eye(3)\n",
    "arrI"
   ]
  },
  {
   "cell_type": "code",
   "execution_count": 23,
   "id": "1393944c-b89f-416b-855b-7a9c80a0ef41",
   "metadata": {},
   "outputs": [
    {
     "data": {
      "text/plain": [
       "(3, 3)"
      ]
     },
     "execution_count": 23,
     "metadata": {},
     "output_type": "execute_result"
    }
   ],
   "source": [
    "arrI.shape"
   ]
  },
  {
   "cell_type": "code",
   "execution_count": 24,
   "id": "d3a97d04-d4bc-4c0b-b2f2-ae2c33a79f5d",
   "metadata": {},
   "outputs": [
    {
     "data": {
      "text/plain": [
       "array(['1.5', '0.25'], dtype='<U4')"
      ]
     },
     "execution_count": 24,
     "metadata": {},
     "output_type": "execute_result"
    }
   ],
   "source": [
    "#문자열 데이터 배열\n",
    "np.array([\"1.5\", \"0.25\"]) #dtype='<U4'"
   ]
  },
  {
   "cell_type": "code",
   "execution_count": 25,
   "id": "980bc5c5-3c8c-4e4e-a4a6-2cfc9ef23bb8",
   "metadata": {},
   "outputs": [
    {
     "data": {
      "text/plain": [
       "array([1.5 , 0.25, 5.  ])"
      ]
     },
     "execution_count": 25,
     "metadata": {},
     "output_type": "execute_result"
    }
   ],
   "source": [
    "#문자열 데이터를 연산을 하기 위해서는 정수나 실수 형태로 변환해야 한다.\n",
    "arr = np.array([\"1.5\", \"0.25\", \"5\"])\n",
    "numArr = arr.astype(float)\n",
    "numArr"
   ]
  },
  {
   "cell_type": "code",
   "execution_count": 26,
   "id": "060ff2b1-31fd-4f3d-9e21-cd778ec5a18a",
   "metadata": {},
   "outputs": [
    {
     "data": {
      "text/plain": [
       "array([2.5 , 2.25, 8.  ])"
      ]
     },
     "execution_count": 26,
     "metadata": {},
     "output_type": "execute_result"
    }
   ],
   "source": [
    "numArr + np.array([1, 2, 3])"
   ]
  },
  {
   "cell_type": "code",
   "execution_count": 27,
   "id": "313a0856-e59f-437c-a5b6-0cff0d8a87be",
   "metadata": {},
   "outputs": [
    {
     "name": "stdout",
     "output_type": "stream",
     "text": [
      "[1 0 5]\n",
      "[1.5  0.25 5.  ]\n"
     ]
    }
   ],
   "source": [
    "intArr = numArr.astype(int)\n",
    "floatArr = numArr.astype(float)\n",
    "print(intArr) #소수점 아래를 버림. 지양할 타입\n",
    "print(floatArr) #온전한 형태로 출력됨 "
   ]
  },
  {
   "cell_type": "markdown",
   "id": "c78c97b6-f09e-4bf6-97a3-5eca8ec42aa4",
   "metadata": {},
   "source": [
    "#### 난수 무작위 추출\n",
    "- np.random.rand(a, b, c): 0부터 1사이의 실수를 랜덤으로 추출 후 배열. 1, 2, 3차원 모두 가능함\n",
    "- np.random.randint(c, d, n): c와 d 사이의 n개의 정수를 랜덤으로 추출 후 배열. 이때 d는 포함 안 됨\n",
    "- 이때 n에 정수 대신 (e, f) 같은 방식으로 tuple을 넣어 배열을 만들 수 있다."
   ]
  },
  {
   "cell_type": "code",
   "execution_count": 33,
   "id": "5256241c-0cbe-463f-8183-cec2eb1b779c",
   "metadata": {},
   "outputs": [
    {
     "data": {
      "text/plain": [
       "array([0.48225291, 0.81143557])"
      ]
     },
     "execution_count": 33,
     "metadata": {},
     "output_type": "execute_result"
    }
   ],
   "source": [
    "np.random.rand(2)"
   ]
  },
  {
   "cell_type": "code",
   "execution_count": 36,
   "id": "30c0e4af-5a62-497a-9d82-c920a7f759e4",
   "metadata": {},
   "outputs": [
    {
     "data": {
      "text/plain": [
       "array([[[0.38110494, 0.76155746, 0.77123282, 0.47604901],\n",
       "        [0.98141942, 0.6367894 , 0.06568786, 0.45546524],\n",
       "        [0.24582951, 0.67112251, 0.38559672, 0.73242494]],\n",
       "\n",
       "       [[0.62764934, 0.05326718, 0.68755716, 0.11398032],\n",
       "        [0.3545683 , 0.51322357, 0.60784578, 0.97071652],\n",
       "        [0.01642937, 0.1755338 , 0.6269507 , 0.36912149]]])"
      ]
     },
     "execution_count": 36,
     "metadata": {},
     "output_type": "execute_result"
    }
   ],
   "source": [
    "np.random.rand(2, 3, 4)"
   ]
  },
  {
   "cell_type": "code",
   "execution_count": 37,
   "id": "a99cdc7b-2efa-4481-8c56-a559734d1363",
   "metadata": {},
   "outputs": [
    {
     "data": {
      "text/plain": [
       "array([38,  5, 14, 56, 53])"
      ]
     },
     "execution_count": 37,
     "metadata": {},
     "output_type": "execute_result"
    }
   ],
   "source": [
    "np.random.randint(1, 100, 5)"
   ]
  },
  {
   "cell_type": "code",
   "execution_count": 40,
   "id": "07caba90-0987-42b9-81b2-23331fb2adb1",
   "metadata": {},
   "outputs": [
    {
     "data": {
      "text/plain": [
       "array([[[11, 70, 82, 38],\n",
       "        [21, 13, 37, 52],\n",
       "        [85, 48, 27, 74]],\n",
       "\n",
       "       [[99, 93, 23, 90],\n",
       "        [81,  9, 72, 73],\n",
       "        [28, 35, 10,  3]]])"
      ]
     },
     "execution_count": 40,
     "metadata": {},
     "output_type": "execute_result"
    }
   ],
   "source": [
    "np.random.randint(1, 100, (2, 3, 4))"
   ]
  },
  {
   "cell_type": "markdown",
   "id": "0c77ee90-38db-4e8b-807c-de52657cf618",
   "metadata": {},
   "source": [
    "#### 배열의 연산\n",
    "- 합, 평균, 표준편차, 분산, 최솟값, 최댓값, 누적합, 누적곱 메서드가 존재한다\n",
    "- 기술통계량(Descipttive Statistic): 현재 데이터 상태를 표현하는 통계량"
   ]
  },
  {
   "cell_type": "code",
   "execution_count": 43,
   "id": "e32c9f49-9735-4a3e-8d71-587a37a15e07",
   "metadata": {},
   "outputs": [
    {
     "name": "stdout",
     "output_type": "stream",
     "text": [
      "arr3는 [0 1 2 3 4]\n",
      "10\n",
      "2.0\n",
      "1.4142135623730951\n",
      "2.0\n"
     ]
    }
   ],
   "source": [
    "arr3 = np.arange(5)\n",
    "print(f'arr3는 {arr3}')\n",
    "print(arr3.sum())\n",
    "print(arr3.mean()) #평균\n",
    "print(arr3.std()) #표준편차\n",
    "print(arr3.var()) #분산"
   ]
  },
  {
   "cell_type": "markdown",
   "id": "08da7d69-02d8-4bbd-b960-a623ad2862ac",
   "metadata": {},
   "source": [
    "#### 행렬연산"
   ]
  },
  {
   "cell_type": "code",
   "execution_count": 44,
   "id": "9a60ed33-6fa6-4c13-bf6e-a50836af6724",
   "metadata": {},
   "outputs": [
    {
     "name": "stdout",
     "output_type": "stream",
     "text": [
      "[[2 3]\n",
      " [4 5]]\n",
      "[[6 7]\n",
      " [8 9]]\n"
     ]
    }
   ],
   "source": [
    "A = np.array([2, 3, 4, 5]).reshape(2, 2)\n",
    "B = np.array([6, 7, 8, 9]).reshape(2, 2)\n",
    "print(A)\n",
    "print(B)"
   ]
  },
  {
   "cell_type": "code",
   "execution_count": 47,
   "id": "c05ad447-589f-4cb6-965d-4e44051e4e65",
   "metadata": {},
   "outputs": [
    {
     "data": {
      "text/plain": [
       "array([[36, 41],\n",
       "       [64, 73]])"
      ]
     },
     "execution_count": 47,
     "metadata": {},
     "output_type": "execute_result"
    }
   ],
   "source": [
    "# 행렬의 곱셈\n",
    "A.dot(B)"
   ]
  },
  {
   "cell_type": "code",
   "execution_count": 50,
   "id": "a0f4991e-ecfe-448d-a4bb-1f6bcb44cc85",
   "metadata": {},
   "outputs": [
    {
     "data": {
      "text/plain": [
       "110"
      ]
     },
     "execution_count": 50,
     "metadata": {},
     "output_type": "execute_result"
    }
   ],
   "source": [
    "# 배열의 곱셈 기능도 존재함\n",
    "a = np.array([2, 3, 4, 5])\n",
    "b = np.array([6, 7, 8, 9])\n",
    "a.dot(b)"
   ]
  },
  {
   "cell_type": "code",
   "execution_count": 52,
   "id": "d9a22669-63de-4696-abdc-ebfa596988be",
   "metadata": {},
   "outputs": [
    {
     "data": {
      "text/plain": [
       "array([[2, 4],\n",
       "       [3, 5]])"
      ]
     },
     "execution_count": 52,
     "metadata": {},
     "output_type": "execute_result"
    }
   ],
   "source": [
    "#전치행렬 -> 행렬의 행과 열을 바꾼 행랼\n",
    "A.transpose()"
   ]
  },
  {
   "cell_type": "code",
   "execution_count": 55,
   "id": "11a3f679-fbfb-4ff0-a5ba-b4b02578ca36",
   "metadata": {},
   "outputs": [
    {
     "data": {
      "text/plain": [
       "array([[-2.5,  1.5],\n",
       "       [ 2. , -1. ]])"
      ]
     },
     "execution_count": 55,
     "metadata": {},
     "output_type": "execute_result"
    }
   ],
   "source": [
    "#역행렬\n",
    "np.linalg.inv(A)"
   ]
  },
  {
   "cell_type": "code",
   "execution_count": null,
   "id": "c3b8f352-1f7c-4b9c-895c-a6990e6b7d3b",
   "metadata": {},
   "outputs": [],
   "source": []
  }
 ],
 "metadata": {
  "kernelspec": {
   "display_name": "Python 3 (ipykernel)",
   "language": "python",
   "name": "python3"
  },
  "language_info": {
   "codemirror_mode": {
    "name": "ipython",
    "version": 3
   },
   "file_extension": ".py",
   "mimetype": "text/x-python",
   "name": "python",
   "nbconvert_exporter": "python",
   "pygments_lexer": "ipython3",
   "version": "3.12.1"
  }
 },
 "nbformat": 4,
 "nbformat_minor": 5
}
