{
 "cells": [
  {
   "cell_type": "code",
   "execution_count": 4,
   "id": "db312b43-2917-4851-bb7e-f46e0f8962e9",
   "metadata": {},
   "outputs": [
    {
     "name": "stdout",
     "output_type": "stream",
     "text": [
      "1.26.3\n",
      "2.1.4\n",
      "0.13.1\n"
     ]
    }
   ],
   "source": [
    "import numpy as np\n",
    "import pandas as pd\n",
    "import seaborn as sns\n",
    "\n",
    "print(np.__version__)\n",
    "print(pd.__version__)\n",
    "print(sns.__version__)"
   ]
  },
  {
   "cell_type": "markdown",
   "id": "a83745c8-5263-46c1-b9fd-02291dc0db7c",
   "metadata": {},
   "source": [
    "#### pandas의 데이터구조\n",
    "- Series: 1차원 데이터, 컬럼이 1개\n",
    "- DataFrame: 다차원 데이터, 컬럼이 여러개"
   ]
  },
  {
   "cell_type": "code",
   "execution_count": 5,
   "id": "059c69a4-2371-4a91-b79a-88932d238dbd",
   "metadata": {},
   "outputs": [
    {
     "data": {
      "text/plain": [
       "0    10\n",
       "1    20\n",
       "2    30\n",
       "3    40\n",
       "4    50\n",
       "dtype: int64"
      ]
     },
     "execution_count": 5,
     "metadata": {},
     "output_type": "execute_result"
    }
   ],
   "source": [
    "s1 = pd.Series([10, 20, 30, 40, 50]) \n",
    "s1 #dtype: int64"
   ]
  },
  {
   "cell_type": "code",
   "execution_count": 6,
   "id": "92aec7e6-fd9f-4e77-b6d2-9c52763ff3df",
   "metadata": {},
   "outputs": [
    {
     "name": "stdout",
     "output_type": "stream",
     "text": [
      "RangeIndex(start=0, stop=5, step=1)\n",
      "[10 20 30 40 50]\n"
     ]
    }
   ],
   "source": [
    "print(s1.index) #인덱스\n",
    "print(s1.values) #결과값 - numpy의 그 모습과 같음"
   ]
  },
  {
   "cell_type": "code",
   "execution_count": 7,
   "id": "42edc4d0-3c7e-4cb7-8483-013cae02d535",
   "metadata": {},
   "outputs": [
    {
     "data": {
      "text/plain": [
       "0    에스프레소\n",
       "1    아메리카노\n",
       "2     카레라떼\n",
       "3        1\n",
       "4        2\n",
       "5        3\n",
       "dtype: object"
      ]
     },
     "execution_count": 7,
     "metadata": {},
     "output_type": "execute_result"
    }
   ],
   "source": [
    "s2 = pd.Series([\"에스프레소\", \"아메리카노\", \"카레라떼\", 1, 2, 3])\n",
    "s2 #dtype: object"
   ]
  },
  {
   "cell_type": "code",
   "execution_count": 8,
   "id": "d82d5831-9f3f-4e25-afca-c7d08d3ff218",
   "metadata": {},
   "outputs": [
    {
     "data": {
      "text/plain": [
       "0     NaN\n",
       "1    10.0\n",
       "2    30.0\n",
       "dtype: float64"
      ]
     },
     "execution_count": 8,
     "metadata": {},
     "output_type": "execute_result"
    }
   ],
   "source": [
    "#데이터를 위한 자리(index)는 있지만 데이터는 없음 NaN(결측치)를 통해서 표현할 수 있다.\n",
    "s3 = pd.Series([np.nan, 10, 30])\n",
    "s3 #dtype: float64"
   ]
  },
  {
   "cell_type": "code",
   "execution_count": 9,
   "id": "2a8ff5b7-32f5-40a8-9f7d-6376b36d212b",
   "metadata": {},
   "outputs": [
    {
     "data": {
      "text/plain": [
       "1번    200\n",
       "2번    250\n",
       "dtype: int64"
      ]
     },
     "execution_count": 9,
     "metadata": {},
     "output_type": "execute_result"
    }
   ],
   "source": [
    "#index를 0, 1, 2, ... 이 아니라 다른 걸로도 표현이 가능하다\n",
    "\n",
    "index_data = [\"1번\", \"2번\"]\n",
    "s4 = pd.Series([200, 250], index = index_data)\n",
    "s4"
   ]
  },
  {
   "cell_type": "code",
   "execution_count": 10,
   "id": "683f975b-3a7e-411f-959d-ecf1ea853265",
   "metadata": {},
   "outputs": [
    {
     "data": {
      "text/plain": [
       "국어    100\n",
       "영어     75\n",
       "dtype: int64"
      ]
     },
     "execution_count": 10,
     "metadata": {},
     "output_type": "execute_result"
    }
   ],
   "source": [
    "#딕셔너리를 이용한 Series 데이터 형성\n",
    "\n",
    "dataDict = {\n",
    "    \"국어\" : 100,\n",
    "    \"영어\" : 75\n",
    "}\n",
    "s5 = pd.Series(dataDict)\n",
    "s5"
   ]
  },
  {
   "cell_type": "code",
   "execution_count": 11,
   "id": "722e6182-d93d-44bf-a7a8-6a9778751e14",
   "metadata": {},
   "outputs": [
    {
     "data": {
      "text/plain": [
       "DatetimeIndex(['1996-01-01', '1996-01-02', '1996-01-03', '1996-01-04',\n",
       "               '1996-01-05', '1996-01-06', '1996-01-07', '1996-01-08',\n",
       "               '1996-01-09', '1996-01-10',\n",
       "               ...\n",
       "               '2024-01-03', '2024-01-04', '2024-01-05', '2024-01-06',\n",
       "               '2024-01-07', '2024-01-08', '2024-01-09', '2024-01-10',\n",
       "               '2024-01-11', '2024-01-12'],\n",
       "              dtype='datetime64[ns]', length=10239, freq='D')"
      ]
     },
     "execution_count": 11,
     "metadata": {},
     "output_type": "execute_result"
    }
   ],
   "source": [
    "#날짜 데이터 입력\n",
    "from datetime import datetime\n",
    "pd.date_range(start = \"1996/01/01\", end = datetime.today()) #디폴트는 1일"
   ]
  },
  {
   "cell_type": "code",
   "execution_count": 12,
   "id": "2d63d54f-54fb-4b9e-9b68-0ed9d41fbf69",
   "metadata": {},
   "outputs": [
    {
     "data": {
      "text/plain": [
       "DatetimeIndex(['1996-02-18', '1996-03-03', '1996-03-17', '1996-03-31',\n",
       "               '1996-04-14', '1996-04-28', '1996-05-12'],\n",
       "              dtype='datetime64[ns]', freq='2W-SUN')"
      ]
     },
     "execution_count": 12,
     "metadata": {},
     "output_type": "execute_result"
    }
   ],
   "source": [
    "pd.date_range(start = \"1996/02/13\", periods = 7, freq = \"2W\")\n",
    "#periods: 몇개를 가져올 것인지\n",
    "#freq: 주기. 여기서는 2주"
   ]
  },
  {
   "cell_type": "code",
   "execution_count": 13,
   "id": "79562853-3b67-4bf3-a4f6-d17ae8dbc1f0",
   "metadata": {},
   "outputs": [
    {
     "data": {
      "text/plain": [
       "DatetimeIndex(['1996-02-13 00:00:00', '1996-02-13 01:00:00',\n",
       "               '1996-02-13 02:00:00'],\n",
       "              dtype='datetime64[ns]', freq='H')"
      ]
     },
     "execution_count": 13,
     "metadata": {},
     "output_type": "execute_result"
    }
   ],
   "source": [
    "pd.date_range(start = \"1996/02/13\", periods = 3, freq = \"H\")\n",
    "#H 하면 시간 주기로 가져옴"
   ]
  }
 ],
 "metadata": {
  "kernelspec": {
   "display_name": "myVenv",
   "language": "python",
   "name": "myvenv"
  },
  "language_info": {
   "codemirror_mode": {
    "name": "ipython",
    "version": 3
   },
   "file_extension": ".py",
   "mimetype": "text/x-python",
   "name": "python",
   "nbconvert_exporter": "python",
   "pygments_lexer": "ipython3",
   "version": "3.12.1"
  }
 },
 "nbformat": 4,
 "nbformat_minor": 5
}
