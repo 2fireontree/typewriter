{
 "cells": [
  {
   "cell_type": "markdown",
   "id": "f62ebeeb-e788-4e37-b553-b6c2345b2eef",
   "metadata": {},
   "source": [
    "## 단순선형 회귀분석"
   ]
  },
  {
   "cell_type": "code",
   "execution_count": 2,
   "id": "346af17f-44b4-41ba-a847-1ff42fc5b625",
   "metadata": {},
   "outputs": [],
   "source": [
    "import numpy as np\n",
    "import matplotlib.pyplot as plt\n",
    "import statsmodels\n",
    "import statsmodels.formula.api as smf"
   ]
  },
  {
   "cell_type": "code",
   "execution_count": 3,
   "id": "a4b1f9a0-71ea-4ccd-a57b-94bdc806d81c",
   "metadata": {},
   "outputs": [
    {
     "data": {
      "text/html": [
       "<div>\n",
       "<style scoped>\n",
       "    .dataframe tbody tr th:only-of-type {\n",
       "        vertical-align: middle;\n",
       "    }\n",
       "\n",
       "    .dataframe tbody tr th {\n",
       "        vertical-align: top;\n",
       "    }\n",
       "\n",
       "    .dataframe thead th {\n",
       "        text-align: right;\n",
       "    }\n",
       "</style>\n",
       "<table border=\"1\" class=\"dataframe\">\n",
       "  <thead>\n",
       "    <tr style=\"text-align: right;\">\n",
       "      <th></th>\n",
       "      <th>sepal_length</th>\n",
       "      <th>sepal_width</th>\n",
       "      <th>petal_length</th>\n",
       "      <th>petal_width</th>\n",
       "      <th>species</th>\n",
       "    </tr>\n",
       "  </thead>\n",
       "  <tbody>\n",
       "    <tr>\n",
       "      <th>0</th>\n",
       "      <td>5.1</td>\n",
       "      <td>3.5</td>\n",
       "      <td>1.4</td>\n",
       "      <td>0.2</td>\n",
       "      <td>setosa</td>\n",
       "    </tr>\n",
       "    <tr>\n",
       "      <th>1</th>\n",
       "      <td>4.9</td>\n",
       "      <td>3.0</td>\n",
       "      <td>1.4</td>\n",
       "      <td>0.2</td>\n",
       "      <td>setosa</td>\n",
       "    </tr>\n",
       "    <tr>\n",
       "      <th>2</th>\n",
       "      <td>4.7</td>\n",
       "      <td>3.2</td>\n",
       "      <td>1.3</td>\n",
       "      <td>0.2</td>\n",
       "      <td>setosa</td>\n",
       "    </tr>\n",
       "  </tbody>\n",
       "</table>\n",
       "</div>"
      ],
      "text/plain": [
       "   sepal_length  sepal_width  petal_length  petal_width species\n",
       "0           5.1          3.5           1.4          0.2  setosa\n",
       "1           4.9          3.0           1.4          0.2  setosa\n",
       "2           4.7          3.2           1.3          0.2  setosa"
      ]
     },
     "execution_count": 3,
     "metadata": {},
     "output_type": "execute_result"
    }
   ],
   "source": [
    "import seaborn as sns\n",
    "\n",
    "iris = sns.load_dataset('iris')\n",
    "iris.head(3)"
   ]
  },
  {
   "cell_type": "markdown",
   "id": "9639139f-b731-49fd-8ab6-a669e2ec634c",
   "metadata": {},
   "source": [
    "- smf.ols: 최소제곱법을 사용한 회귀분석"
   ]
  },
  {
   "cell_type": "code",
   "execution_count": 4,
   "id": "7027983f-b713-4269-a125-321ad8592de6",
   "metadata": {},
   "outputs": [
    {
     "data": {
      "text/plain": [
       "<statsmodels.regression.linear_model.RegressionResultsWrapper at 0x2516aba7380>"
      ]
     },
     "execution_count": 4,
     "metadata": {},
     "output_type": "execute_result"
    }
   ],
   "source": [
    "#\n",
    "formula =  \"sepal_length ~ sepal_width\" #반응/종속변수 length, 설명/독립변수 width\n",
    "data = iris\n",
    "model = smf.ols(formula, data).fit() \n",
    "model"
   ]
  },
  {
   "cell_type": "code",
   "execution_count": 8,
   "id": "c80d3f56-ffa4-4d00-b37f-e1a3081ef39c",
   "metadata": {},
   "outputs": [
    {
     "data": {
      "text/html": [
       "<table class=\"simpletable\">\n",
       "<caption>OLS Regression Results</caption>\n",
       "<tr>\n",
       "  <th>Dep. Variable:</th>      <td>sepal_length</td>   <th>  R-squared:         </th> <td>   0.014</td>\n",
       "</tr>\n",
       "<tr>\n",
       "  <th>Model:</th>                   <td>OLS</td>       <th>  Adj. R-squared:    </th> <td>   0.007</td>\n",
       "</tr>\n",
       "<tr>\n",
       "  <th>Method:</th>             <td>Least Squares</td>  <th>  F-statistic:       </th> <td>   2.074</td>\n",
       "</tr>\n",
       "<tr>\n",
       "  <th>Date:</th>             <td>Mon, 15 Jan 2024</td> <th>  Prob (F-statistic):</th>  <td> 0.152</td> \n",
       "</tr>\n",
       "<tr>\n",
       "  <th>Time:</th>                 <td>04:05:42</td>     <th>  Log-Likelihood:    </th> <td> -183.00</td>\n",
       "</tr>\n",
       "<tr>\n",
       "  <th>No. Observations:</th>      <td>   150</td>      <th>  AIC:               </th> <td>   370.0</td>\n",
       "</tr>\n",
       "<tr>\n",
       "  <th>Df Residuals:</th>          <td>   148</td>      <th>  BIC:               </th> <td>   376.0</td>\n",
       "</tr>\n",
       "<tr>\n",
       "  <th>Df Model:</th>              <td>     1</td>      <th>                     </th>     <td> </td>   \n",
       "</tr>\n",
       "<tr>\n",
       "  <th>Covariance Type:</th>      <td>nonrobust</td>    <th>                     </th>     <td> </td>   \n",
       "</tr>\n",
       "</table>\n",
       "<table class=\"simpletable\">\n",
       "<tr>\n",
       "       <td></td>          <th>coef</th>     <th>std err</th>      <th>t</th>      <th>P>|t|</th>  <th>[0.025</th>    <th>0.975]</th>  \n",
       "</tr>\n",
       "<tr>\n",
       "  <th>Intercept</th>   <td>    6.5262</td> <td>    0.479</td> <td>   13.628</td> <td> 0.000</td> <td>    5.580</td> <td>    7.473</td>\n",
       "</tr>\n",
       "<tr>\n",
       "  <th>sepal_width</th> <td>   -0.2234</td> <td>    0.155</td> <td>   -1.440</td> <td> 0.152</td> <td>   -0.530</td> <td>    0.083</td>\n",
       "</tr>\n",
       "</table>\n",
       "<table class=\"simpletable\">\n",
       "<tr>\n",
       "  <th>Omnibus:</th>       <td> 4.389</td> <th>  Durbin-Watson:     </th> <td>   0.952</td>\n",
       "</tr>\n",
       "<tr>\n",
       "  <th>Prob(Omnibus):</th> <td> 0.111</td> <th>  Jarque-Bera (JB):  </th> <td>   4.237</td>\n",
       "</tr>\n",
       "<tr>\n",
       "  <th>Skew:</th>          <td> 0.360</td> <th>  Prob(JB):          </th> <td>   0.120</td>\n",
       "</tr>\n",
       "<tr>\n",
       "  <th>Kurtosis:</th>      <td> 2.600</td> <th>  Cond. No.          </th> <td>    24.2</td>\n",
       "</tr>\n",
       "</table><br/><br/>Notes:<br/>[1] Standard Errors assume that the covariance matrix of the errors is correctly specified."
      ],
      "text/latex": [
       "\\begin{center}\n",
       "\\begin{tabular}{lclc}\n",
       "\\toprule\n",
       "\\textbf{Dep. Variable:}    &  sepal\\_length   & \\textbf{  R-squared:         } &     0.014   \\\\\n",
       "\\textbf{Model:}            &       OLS        & \\textbf{  Adj. R-squared:    } &     0.007   \\\\\n",
       "\\textbf{Method:}           &  Least Squares   & \\textbf{  F-statistic:       } &     2.074   \\\\\n",
       "\\textbf{Date:}             & Mon, 15 Jan 2024 & \\textbf{  Prob (F-statistic):} &    0.152    \\\\\n",
       "\\textbf{Time:}             &     04:05:42     & \\textbf{  Log-Likelihood:    } &   -183.00   \\\\\n",
       "\\textbf{No. Observations:} &         150      & \\textbf{  AIC:               } &     370.0   \\\\\n",
       "\\textbf{Df Residuals:}     &         148      & \\textbf{  BIC:               } &     376.0   \\\\\n",
       "\\textbf{Df Model:}         &           1      & \\textbf{                     } &             \\\\\n",
       "\\textbf{Covariance Type:}  &    nonrobust     & \\textbf{                     } &             \\\\\n",
       "\\bottomrule\n",
       "\\end{tabular}\n",
       "\\begin{tabular}{lcccccc}\n",
       "                      & \\textbf{coef} & \\textbf{std err} & \\textbf{t} & \\textbf{P$> |$t$|$} & \\textbf{[0.025} & \\textbf{0.975]}  \\\\\n",
       "\\midrule\n",
       "\\textbf{Intercept}    &       6.5262  &        0.479     &    13.628  &         0.000        &        5.580    &        7.473     \\\\\n",
       "\\textbf{sepal\\_width} &      -0.2234  &        0.155     &    -1.440  &         0.152        &       -0.530    &        0.083     \\\\\n",
       "\\bottomrule\n",
       "\\end{tabular}\n",
       "\\begin{tabular}{lclc}\n",
       "\\textbf{Omnibus:}       &  4.389 & \\textbf{  Durbin-Watson:     } &    0.952  \\\\\n",
       "\\textbf{Prob(Omnibus):} &  0.111 & \\textbf{  Jarque-Bera (JB):  } &    4.237  \\\\\n",
       "\\textbf{Skew:}          &  0.360 & \\textbf{  Prob(JB):          } &    0.120  \\\\\n",
       "\\textbf{Kurtosis:}      &  2.600 & \\textbf{  Cond. No.          } &     24.2  \\\\\n",
       "\\bottomrule\n",
       "\\end{tabular}\n",
       "%\\caption{OLS Regression Results}\n",
       "\\end{center}\n",
       "\n",
       "Notes: \\newline\n",
       " [1] Standard Errors assume that the covariance matrix of the errors is correctly specified."
      ],
      "text/plain": [
       "<class 'statsmodels.iolib.summary.Summary'>\n",
       "\"\"\"\n",
       "                            OLS Regression Results                            \n",
       "==============================================================================\n",
       "Dep. Variable:           sepal_length   R-squared:                       0.014\n",
       "Model:                            OLS   Adj. R-squared:                  0.007\n",
       "Method:                 Least Squares   F-statistic:                     2.074\n",
       "Date:                Mon, 15 Jan 2024   Prob (F-statistic):              0.152\n",
       "Time:                        04:05:42   Log-Likelihood:                -183.00\n",
       "No. Observations:                 150   AIC:                             370.0\n",
       "Df Residuals:                     148   BIC:                             376.0\n",
       "Df Model:                           1                                         \n",
       "Covariance Type:            nonrobust                                         \n",
       "===============================================================================\n",
       "                  coef    std err          t      P>|t|      [0.025      0.975]\n",
       "-------------------------------------------------------------------------------\n",
       "Intercept       6.5262      0.479     13.628      0.000       5.580       7.473\n",
       "sepal_width    -0.2234      0.155     -1.440      0.152      -0.530       0.083\n",
       "==============================================================================\n",
       "Omnibus:                        4.389   Durbin-Watson:                   0.952\n",
       "Prob(Omnibus):                  0.111   Jarque-Bera (JB):                4.237\n",
       "Skew:                           0.360   Prob(JB):                        0.120\n",
       "Kurtosis:                       2.600   Cond. No.                         24.2\n",
       "==============================================================================\n",
       "\n",
       "Notes:\n",
       "[1] Standard Errors assume that the covariance matrix of the errors is correctly specified.\n",
       "\"\"\""
      ]
     },
     "execution_count": 8,
     "metadata": {},
     "output_type": "execute_result"
    }
   ],
   "source": [
    "model.summary()"
   ]
  },
  {
   "cell_type": "markdown",
   "id": "95963cf7-c2f4-4d26-886d-96e361339e18",
   "metadata": {},
   "source": [
    "#### 해설\n",
    "- Adj. R-squared: 수정된 결정계수 -> 수정결정계수가 1에 가까울수록 이상적인 모델이다. 해당 모델은 별로임.\n",
    "- coef: 회귀계수\n",
    "- Intercept의 coef: 상수항, 절편\n",
    "- sepal_width의 coef: 기울기\n",
    "- P>|t|: t 검정통계량에 대한 p 값\n",
    "    + width의 p값은 0.152이므로 0.05보다 크다. 귀무가설을 채택한다.\n",
    "    + 회귀분석에서 귀무가설은 <기울기가 0이다.>\n",
    "    + 기울기가 0이다 -> 종속변수와 독립변수는 관계가 없다."
   ]
  },
  {
   "cell_type": "code",
   "execution_count": 7,
   "id": "30cea8cc-a029-48c3-b298-a55a3041d0f9",
   "metadata": {},
   "outputs": [
    {
     "name": "stdout",
     "output_type": "stream",
     "text": [
      "6.526222550894483\n",
      "-0.22336106112990034\n"
     ]
    }
   ],
   "source": [
    "Intercept = model.params.Intercept\n",
    "slope = model.params.sepal_width\n",
    "\n",
    "print(Intercept, slope, sep = '\\n')"
   ]
  },
  {
   "cell_type": "markdown",
   "id": "0b2ce524-3ef9-49a3-a311-3f981cec4f5a",
   "metadata": {},
   "source": [
    "## 예제\n",
    "\n",
    "- 주어진 데이터를 이용하여 항암제를 투여 받은 환자들의 부작용 분포와 감기약을 투여 받은 환자들의 부작용 분포간 차이가 있는지 확인하시오.\r\n",
    "- 감기약 투여 환자들의 부작용 발생 비율\r\n",
    "    + 아픔 5% / 조금아픔 10% / 속쓰림 15% / 무증상 70%\r\n",
    "- 항암제 투여 환자들의 관찰된 부작용"
   ]
  },
  {
   "cell_type": "code",
   "execution_count": 23,
   "id": "12fe4a18-3d3b-40b1-abd0-3923a75ef79a",
   "metadata": {},
   "outputs": [],
   "source": [
    "import pandas as pd\n",
    "\n",
    "df = pd.read_csv(\"data/data_6_3_1.csv\")"
   ]
  },
  {
   "cell_type": "code",
   "execution_count": null,
   "id": "dd58cc23-ca64-42f8-996a-52c852e1b4e5",
   "metadata": {},
   "outputs": [],
   "source": [
    "print(df['항암제'].values.tolist()) #values: Numpy배열로 반환, tolist(): 파이썬 리스트로 변환"
   ]
  },
  {
   "cell_type": "markdown",
   "id": "c90263cf-77f0-4c73-8f3a-ffea6c17c29d",
   "metadata": {},
   "source": [
    "### 문제 1. 항암제 투여 환자들 중 '무증상' 비율을 0과 1사이로 구하시오. "
   ]
  },
  {
   "cell_type": "code",
   "execution_count": 13,
   "id": "73a8cff2-6489-4316-8768-112b34e747e8",
   "metadata": {},
   "outputs": [
    {
     "data": {
      "text/plain": [
       "항암제\n",
       "무증상     11\n",
       "조금아픔     4\n",
       "아픔       3\n",
       "속쓰림      2\n",
       "Name: count, dtype: int64"
      ]
     },
     "execution_count": 13,
     "metadata": {},
     "output_type": "execute_result"
    }
   ],
   "source": [
    "df['항암제'].value_counts()"
   ]
  },
  {
   "cell_type": "code",
   "execution_count": 14,
   "id": "c92409d2-643d-4e57-b295-73354f737ad6",
   "metadata": {},
   "outputs": [
    {
     "data": {
      "text/plain": [
       "항암제\n",
       "무증상     0.55\n",
       "조금아픔    0.20\n",
       "아픔      0.15\n",
       "속쓰림     0.10\n",
       "Name: proportion, dtype: float64"
      ]
     },
     "execution_count": 14,
     "metadata": {},
     "output_type": "execute_result"
    }
   ],
   "source": [
    "df['항암제'].value_counts(normalize = True)"
   ]
  },
  {
   "cell_type": "code",
   "execution_count": 20,
   "id": "5c4f0f09-d42d-43ff-a7f8-a630eb3bbafd",
   "metadata": {},
   "outputs": [
    {
     "name": "stdout",
     "output_type": "stream",
     "text": [
      "0.55\n"
     ]
    }
   ],
   "source": [
    "no_symptom = df['항암제'].value_counts(normalize = True).iloc[0]\n",
    "print(no_symptom)"
   ]
  },
  {
   "cell_type": "markdown",
   "id": "5db6a335-97ec-4dcd-876b-c4a3c1ebbf97",
   "metadata": {},
   "source": [
    "### 카이제곱 검정\n",
    "- 두 범주형 변수에 대한 분석 방법\n",
    "- 3가지 유형이 존재한다.\n",
    "    + 적합도 검정\n",
    "    + 동질성 검정\n",
    "    + 독립성 검정\n",
    "- 참고: https://www.jmp.com/ko_kr/statistics-knowledge-portal/chi-square-test/chi-square-goodness-of-fit-test.html"
   ]
  },
  {
   "cell_type": "markdown",
   "id": "20e11143-ef99-41a6-bf1b-8a04be51a0c4",
   "metadata": {},
   "source": [
    "#### 적합도 검정\n",
    "- 한 범주형 변수의 각 그룹별 비율이 특정 비율과 같은지 검정함.\n",
    "- 표본 데이터가 전체 모집단을 대표하는지 평가\n",
    "- [범주형 변수] vs [알려진 사실, 특정 기준]\n",
    "- [Group 1, Group 2, ...] vs [p1 : p2 : ...]\n",
    "- 관측 데이터가 특정 분포를 따르는 여부를 검정할 때도 사용"
   ]
  },
  {
   "cell_type": "markdown",
   "id": "64ccd330-291d-4335-a02a-4c805b2e2730",
   "metadata": {},
   "source": [
    "#### 동질성 검정\n",
    "- 각 집단이 서로 유사한 성향을 갖는지 분석함\n",
    "- 열 변수의 분포가 동질한지 검정\n",
    "- 행 변수를 고정하고 각 범주별로 비율이 다른지 검정\n",
    "- [범주형 변수 A: G1, G2, ...] vs [범주형 변수 B: G1, G2, ...]\n",
    "- 예시) 남자 100명과 여자 300명을 부모집단으로 선호 음료 유형이 서로 동질적인가?"
   ]
  },
  {
   "cell_type": "markdown",
   "id": "9b8cb71c-38bb-4f24-ad36-646ffb9c99a4",
   "metadata": {},
   "source": [
    "#### 독립성 검정\n",
    "- 두 범주형 변수가 서로 독립적인지 확인\n",
    "- 전제 조사 대상을 고정하고 조사 결과를 바탕으로 두 범주형 변수 간 연관관계가 유의한지 확인.\n",
    "- [부 모집단: Population 1, Population 2, ...] vs [범주형 변수: G1, G2, ...]\n",
    "- 대표본 가정이 필요함. (각 항의 기대 도수가 5보다 큼)\n",
    "- 만약 대표본 가정을 만족하지 않으면 피션의 정확으로 검정 방법을 바꿔야 함"
   ]
  },
  {
   "cell_type": "markdown",
   "id": "de9c9958-7966-42ea-8329-62935c7a2c69",
   "metadata": {},
   "source": [
    "### 문제 2. 검정통계량\r\n",
    "- 감기약의 부작용 비율과 항암제의 관찰 값이 통계적으로 유의미하게 차이가 있는지 카이제곱 검정을 이용하여 검정통계량을 구하시오. (적합도 검정)\r\n",
    "- 가설검정\r\n",
    "    + 귀무가설 : 감기약의 부작용과 항암제의 부작용은 동일하다.\r\n",
    "    + 대립가설 : 감기약의 부작용과 항암제의 부작용은 다르다. "
   ]
  },
  {
   "cell_type": "code",
   "execution_count": 33,
   "id": "fa36e16a-6648-4015-86f0-ece8c65dbf5a",
   "metadata": {},
   "outputs": [
    {
     "name": "stdout",
     "output_type": "stream",
     "text": [
      "[11, 4, 3, 2] [14.0, 2.0, 1.0, 3.0]\n"
     ]
    }
   ],
   "source": [
    "total = len(df['항암제']) #항암제 표본의 크기 확인. 20.\n",
    "\n",
    "ratios = [0.7, 0.1, 0.05, 0.15] #감기약의 부작용 비율, 순서는 df['항암제'].value_count 순서\n",
    "\n",
    "val1 = df['항암제'].value_counts().tolist() #실제 개수\n",
    "val2 = [ratio * total for ratio in ratios] #기대 개수: [ratios[0] * total, ratios[1] * total, ratios[2] * total, ratios[3] * total]\n",
    "\n",
    "print(val1, val2)"
   ]
  },
  {
   "cell_type": "code",
   "execution_count": 38,
   "id": "183042c7-3dd4-4d7e-a9ed-e2d01e482410",
   "metadata": {},
   "outputs": [
    {
     "data": {
      "text/plain": [
       "6.976190476190475"
      ]
     },
     "execution_count": 38,
     "metadata": {},
     "output_type": "execute_result"
    }
   ],
   "source": [
    "import scipy.stats as stats\n",
    "\n",
    "statistic, pvalue = stats.chisquare(val1, val2) #카이제곱검정 함수\n",
    "statistic #검정통계량"
   ]
  },
  {
   "cell_type": "markdown",
   "id": "64ad576d-907f-48d2-ac33-e34ca5827eb5",
   "metadata": {},
   "source": [
    "- 검정통계량을 통한 가설검정.\n",
    "- 카이제곱 분포에서 이론적 값을 찾는다.\n",
    "- 유의수준은 0.05, 자유도는 (범주 수 - 1)\n",
    "- 위의 문제에서는 0.05에 자유도 3이다. (범주는 증상 심각도)"
   ]
  },
  {
   "cell_type": "code",
   "execution_count": 43,
   "id": "70c1340b-66f3-4afe-9f43-0dec2c4b3485",
   "metadata": {},
   "outputs": [
    {
     "name": "stdout",
     "output_type": "stream",
     "text": [
      "귀무가설 채택\n"
     ]
    }
   ],
   "source": [
    "from scipy.stats import chi2\n",
    "\n",
    "chi_squr_value = chi2.ppf(0.95, df = 3) #7.814727903251179\n",
    "\n",
    "if statistic >= chi_squr_value:\n",
    "    print('귀무가설 기각')\n",
    "else:\n",
    "    print('귀무가설 채택')    "
   ]
  },
  {
   "cell_type": "markdown",
   "id": "cdfcad52-8cbd-4000-80f4-1c1d4cb307ef",
   "metadata": {},
   "source": [
    "- 구분하자\n",
    "- 카이제곱 검정: 검정통계량 >= 이론값 -> 기각\n",
    "- t 검정, p 검정: 통계량/p값 >= 임계값/유의수준 -> 채택"
   ]
  },
  {
   "cell_type": "markdown",
   "id": "83bd8429-9a03-4b31-bd75-478b586ab550",
   "metadata": {},
   "source": [
    "### 문제 3. 검정통계량\n",
    "- p value 구하기"
   ]
  },
  {
   "cell_type": "code",
   "execution_count": 45,
   "id": "1df58a58-9e4a-409e-a3d2-055f99e37050",
   "metadata": {},
   "outputs": [
    {
     "name": "stdout",
     "output_type": "stream",
     "text": [
      "0.07266054733847582\n"
     ]
    }
   ],
   "source": [
    "print(pvalue)"
   ]
  },
  {
   "cell_type": "code",
   "execution_count": 44,
   "id": "16c4db0d-fbc7-42c3-bdf2-da9c9fc8b6b0",
   "metadata": {},
   "outputs": [
    {
     "name": "stdout",
     "output_type": "stream",
     "text": [
      "귀무가설 채택\n"
     ]
    }
   ],
   "source": [
    "if pvalue >= 0.05:\n",
    "    print('귀무가설 채택')\n",
    "else:\n",
    "    print('귀무가설 기각') "
   ]
  }
 ],
 "metadata": {
  "kernelspec": {
   "display_name": "Python 3 (ipykernel)",
   "language": "python",
   "name": "python3"
  },
  "language_info": {
   "codemirror_mode": {
    "name": "ipython",
    "version": 3
   },
   "file_extension": ".py",
   "mimetype": "text/x-python",
   "name": "python",
   "nbconvert_exporter": "python",
   "pygments_lexer": "ipython3",
   "version": "3.12.1"
  }
 },
 "nbformat": 4,
 "nbformat_minor": 5
}
