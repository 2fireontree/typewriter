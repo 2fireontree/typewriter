{
 "cells": [
  {
   "cell_type": "markdown",
   "id": "048ba536-dd9e-4ed0-9555-687addeab2c4",
   "metadata": {},
   "source": [
    "## 다중회귀분석\n",
    "- 주어진 데이터를 이용하여 다중선형회귀 문제를 해결하시오. "
   ]
  },
  {
   "cell_type": "code",
   "execution_count": 100,
   "id": "829ca153-1f13-4f8c-981c-8f88647d4c48",
   "metadata": {},
   "outputs": [
    {
     "data": {
      "text/html": [
       "<div>\n",
       "<style scoped>\n",
       "    .dataframe tbody tr th:only-of-type {\n",
       "        vertical-align: middle;\n",
       "    }\n",
       "\n",
       "    .dataframe tbody tr th {\n",
       "        vertical-align: top;\n",
       "    }\n",
       "\n",
       "    .dataframe thead th {\n",
       "        text-align: right;\n",
       "    }\n",
       "</style>\n",
       "<table border=\"1\" class=\"dataframe\">\n",
       "  <thead>\n",
       "    <tr style=\"text-align: right;\">\n",
       "      <th></th>\n",
       "      <th>Ozone</th>\n",
       "      <th>Solar</th>\n",
       "      <th>Wind</th>\n",
       "      <th>Temp</th>\n",
       "      <th>Month</th>\n",
       "      <th>Day</th>\n",
       "    </tr>\n",
       "  </thead>\n",
       "  <tbody>\n",
       "    <tr>\n",
       "      <th>0</th>\n",
       "      <td>41.0</td>\n",
       "      <td>190.0</td>\n",
       "      <td>7.4</td>\n",
       "      <td>67</td>\n",
       "      <td>5</td>\n",
       "      <td>1</td>\n",
       "    </tr>\n",
       "    <tr>\n",
       "      <th>1</th>\n",
       "      <td>36.0</td>\n",
       "      <td>118.0</td>\n",
       "      <td>8.0</td>\n",
       "      <td>72</td>\n",
       "      <td>5</td>\n",
       "      <td>2</td>\n",
       "    </tr>\n",
       "    <tr>\n",
       "      <th>2</th>\n",
       "      <td>12.0</td>\n",
       "      <td>149.0</td>\n",
       "      <td>12.6</td>\n",
       "      <td>74</td>\n",
       "      <td>5</td>\n",
       "      <td>3</td>\n",
       "    </tr>\n",
       "  </tbody>\n",
       "</table>\n",
       "</div>"
      ],
      "text/plain": [
       "   Ozone  Solar  Wind  Temp  Month  Day\n",
       "0   41.0  190.0   7.4    67      5    1\n",
       "1   36.0  118.0   8.0    72      5    2\n",
       "2   12.0  149.0  12.6    74      5    3"
      ]
     },
     "execution_count": 100,
     "metadata": {},
     "output_type": "execute_result"
    }
   ],
   "source": [
    "import pandas as pd\n",
    "\n",
    "df =pd.read_csv('data/data_6_3_2.csv')\n",
    "df.head(3)"
   ]
  },
  {
   "cell_type": "markdown",
   "id": "fdd396f9-680e-4c4b-aa56-f93128e7c55f",
   "metadata": {},
   "source": [
    "### 문제 1. \r\n",
    "- 선형회귀 모델을 만들어 독립변수 Ozone의 회귀계수(Regression coefficient)를 구하시오.\r\n",
    "    + 독립변수 : Solar(태양 에너지), Wind(바람의 세기), Ozone(오존 농도)\r\n",
    "    + 종속변수 : Temp(온도)"
   ]
  },
  {
   "cell_type": "code",
   "execution_count": 101,
   "id": "11d3dba2-a49a-4bb6-ac60-43162d9282ed",
   "metadata": {},
   "outputs": [
    {
     "data": {
      "text/plain": [
       "Index(['Ozone', 'Solar', 'Wind', 'Temp', 'Month', 'Day'], dtype='object')"
      ]
     },
     "execution_count": 101,
     "metadata": {},
     "output_type": "execute_result"
    }
   ],
   "source": [
    "df.columns"
   ]
  },
  {
   "cell_type": "code",
   "execution_count": 102,
   "id": "41cc0aea-e4ef-4dca-950c-d648a3b8a4ed",
   "metadata": {},
   "outputs": [
    {
     "data": {
      "text/html": [
       "<table class=\"simpletable\">\n",
       "<tr>\n",
       "      <td></td>         <th>coef</th>     <th>std err</th>      <th>t</th>      <th>P>|t|</th>  <th>[0.025</th>    <th>0.975]</th>  \n",
       "</tr>\n",
       "<tr>\n",
       "  <th>Intercept</th> <td>   72.4186</td> <td>    3.216</td> <td>   22.522</td> <td> 0.000</td> <td>   66.044</td> <td>   78.793</td>\n",
       "</tr>\n",
       "<tr>\n",
       "  <th>Ozone</th>     <td>    0.1720</td> <td>    0.026</td> <td>    6.516</td> <td> 0.000</td> <td>    0.120</td> <td>    0.224</td>\n",
       "</tr>\n",
       "<tr>\n",
       "  <th>Solar</th>     <td>    0.0073</td> <td>    0.008</td> <td>    0.948</td> <td> 0.345</td> <td>   -0.008</td> <td>    0.022</td>\n",
       "</tr>\n",
       "<tr>\n",
       "  <th>Wind</th>      <td>   -0.3229</td> <td>    0.233</td> <td>   -1.384</td> <td> 0.169</td> <td>   -0.785</td> <td>    0.139</td>\n",
       "</tr>\n",
       "</table>"
      ],
      "text/latex": [
       "\\begin{center}\n",
       "\\begin{tabular}{lcccccc}\n",
       "\\toprule\n",
       "                   & \\textbf{coef} & \\textbf{std err} & \\textbf{t} & \\textbf{P$> |$t$|$} & \\textbf{[0.025} & \\textbf{0.975]}  \\\\\n",
       "\\midrule\n",
       "\\textbf{Intercept} &      72.4186  &        3.216     &    22.522  &         0.000        &       66.044    &       78.793     \\\\\n",
       "\\textbf{Ozone}     &       0.1720  &        0.026     &     6.516  &         0.000        &        0.120    &        0.224     \\\\\n",
       "\\textbf{Solar}     &       0.0073  &        0.008     &     0.948  &         0.345        &       -0.008    &        0.022     \\\\\n",
       "\\textbf{Wind}      &      -0.3229  &        0.233     &    -1.384  &         0.169        &       -0.785    &        0.139     \\\\\n",
       "\\bottomrule\n",
       "\\end{tabular}\n",
       "\\end{center}"
      ],
      "text/plain": [
       "<class 'statsmodels.iolib.table.SimpleTable'>"
      ]
     },
     "execution_count": 102,
     "metadata": {},
     "output_type": "execute_result"
    }
   ],
   "source": [
    "import statsmodels\n",
    "import statsmodels.formula.api as smf\n",
    "\n",
    "ols_formula = 'Temp ~ Ozone + Solar + Wind'\n",
    "\n",
    "model = smf.ols(ols_formula, data = df).fit()\n",
    "model.summary().tables[1]"
   ]
  },
  {
   "cell_type": "code",
   "execution_count": 103,
   "id": "908b5711-6bcd-4aa7-a3fb-6b3794c3ff83",
   "metadata": {},
   "outputs": [
    {
     "name": "stdout",
     "output_type": "stream",
     "text": [
      "0.172\n",
      "Ozone coef:     0.1720\n"
     ]
    }
   ],
   "source": [
    "ozone_coef_1 = model.params['Ozone']\n",
    "print(round(ozone_coef, 3))\n",
    "print(f'Ozone coef: {model.summary().tables[1].data[2][1]}')"
   ]
  },
  {
   "cell_type": "markdown",
   "id": "55782305-2db9-4db2-87da-5534d9266812",
   "metadata": {},
   "source": [
    "- Ozone의 회귀계수는 0.1720.\n",
    "- 번외)\n",
    "- Solar와 Wind의 p-value가 유의수준보다 높아서 귀무가설이 채택되고 기울기가 0에 가깝다.\n",
    "- p-value가 가장 높은 Sola를 제외하고 회귀분석을 다시 진행한다."
   ]
  },
  {
   "cell_type": "code",
   "execution_count": 104,
   "id": "be60f6ef-6418-4365-8cd1-b00727d3fc15",
   "metadata": {},
   "outputs": [
    {
     "data": {
      "text/html": [
       "<table class=\"simpletable\">\n",
       "<tr>\n",
       "      <td></td>         <th>coef</th>     <th>std err</th>      <th>t</th>      <th>P>|t|</th>  <th>[0.025</th>    <th>0.975]</th>  \n",
       "</tr>\n",
       "<tr>\n",
       "  <th>Intercept</th> <td>   74.1803</td> <td>    2.965</td> <td>   25.017</td> <td> 0.000</td> <td>   68.306</td> <td>   80.055</td>\n",
       "</tr>\n",
       "<tr>\n",
       "  <th>Ozone</th>     <td>    0.1761</td> <td>    0.024</td> <td>    7.362</td> <td> 0.000</td> <td>    0.129</td> <td>    0.224</td>\n",
       "</tr>\n",
       "<tr>\n",
       "  <th>Wind</th>      <td>   -0.3783</td> <td>    0.221</td> <td>   -1.713</td> <td> 0.089</td> <td>   -0.816</td> <td>    0.059</td>\n",
       "</tr>\n",
       "</table>"
      ],
      "text/latex": [
       "\\begin{center}\n",
       "\\begin{tabular}{lcccccc}\n",
       "\\toprule\n",
       "                   & \\textbf{coef} & \\textbf{std err} & \\textbf{t} & \\textbf{P$> |$t$|$} & \\textbf{[0.025} & \\textbf{0.975]}  \\\\\n",
       "\\midrule\n",
       "\\textbf{Intercept} &      74.1803  &        2.965     &    25.017  &         0.000        &       68.306    &       80.055     \\\\\n",
       "\\textbf{Ozone}     &       0.1761  &        0.024     &     7.362  &         0.000        &        0.129    &        0.224     \\\\\n",
       "\\textbf{Wind}      &      -0.3783  &        0.221     &    -1.713  &         0.089        &       -0.816    &        0.059     \\\\\n",
       "\\bottomrule\n",
       "\\end{tabular}\n",
       "\\end{center}"
      ],
      "text/plain": [
       "<class 'statsmodels.iolib.table.SimpleTable'>"
      ]
     },
     "execution_count": 104,
     "metadata": {},
     "output_type": "execute_result"
    }
   ],
   "source": [
    "ols_formula = 'Temp ~ Ozone + Wind'\n",
    "\n",
    "model = smf.ols(ols_formula, data = df).fit()\n",
    "model.summary().tables[1]"
   ]
  },
  {
   "cell_type": "markdown",
   "id": "ac1126ce-1223-4db4-8722-61be82819dc7",
   "metadata": {},
   "source": [
    "- Wind의 p-value가 유의미하게 낮아지는 동시에 기울기가 0.17이 되었다.\n",
    "- 이후 더 정확한 분석을 위해 R과 SPSS으로 다시 분석한다."
   ]
  },
  {
   "cell_type": "markdown",
   "id": "3b075f2c-010a-4d0b-88ad-a1565c7c60b4",
   "metadata": {},
   "source": [
    "### 문제 2. \r\n",
    "- Solar와 Ozone은 고정, Wind가 증가함에 따라 Temp가 감소하는지 검증하기 위한 다중선형회귀 분석을 수행하여 Wind의 회귀계수에 대한 p-value를 구하시오. (유의수준 0.05)"
   ]
  },
  {
   "cell_type": "code",
   "execution_count": 105,
   "id": "7a4a0ba6-dcbd-4eec-98f7-6e267733fb61",
   "metadata": {},
   "outputs": [
    {
     "name": "stdout",
     "output_type": "stream",
     "text": [
      "0.169\n",
      "Wind p-vlaue:  0.169\n"
     ]
    }
   ],
   "source": [
    "import statsmodels\n",
    "from statsmodels.formula.api import ols\n",
    "\n",
    "ols_formula = 'Temp ~ Ozone + Solar + Wind'\n",
    "\n",
    "model = smf.ols(ols_formula, data = df).fit()\n",
    "\n",
    "print(round(model.pvalues['Wind'], 3))\n",
    "print(f'Wind p-vlaue: {model.summary().tables[1].data[4][4]}')"
   ]
  },
  {
   "cell_type": "markdown",
   "id": "08e8c691-1a5a-4829-9ed9-68c51ac07466",
   "metadata": {},
   "source": [
    "### 문제 3. \r\n",
    "- Solar가 150, Wind가 7.5, Ozone이 45일 경우, 예측 값과 그에 대한 95% 신뢰구간을 구하시오. "
   ]
  },
  {
   "cell_type": "code",
   "execution_count": 109,
   "id": "be1ab9bb-8063-469a-9d86-752617919e88",
   "metadata": {},
   "outputs": [
    {
     "name": "stdout",
     "output_type": "stream",
     "text": [
      "        mean   mean_se  mean_ci_lower  mean_ci_upper  obs_ci_lower  \\\n",
      "0  78.826312  0.864464      77.112614      80.540011     65.171661   \n",
      "\n",
      "   obs_ci_upper  \n",
      "0     92.480964  \n"
     ]
    }
   ],
   "source": [
    "new_data = pd.DataFrame({'Ozone': [45], 'Solar': [150], 'Wind': [7.5]})\n",
    "\n",
    "prediction = model.get_prediction(new_data)\n",
    "summary = prediction.summary_frame(alpha = 0.05)\n",
    "print(summary)"
   ]
  },
  {
   "cell_type": "markdown",
   "id": "d65426a5-a49e-473c-a4ca-8dbb1353372f",
   "metadata": {},
   "source": [
    "- prediction = model.get_prediction(new_data): 훈련된 회귀모델 model을 사용하여 새로운 데이터를 예측함\n",
    "- summary = prediction.summary_frame(alpha = 0.05): 얻은 예측값으로 요약통계를 작성함"
   ]
  },
  {
   "cell_type": "code",
   "execution_count": 124,
   "id": "b7a25eb3-6b34-42b9-bc8f-670354cf3b84",
   "metadata": {},
   "outputs": [
    {
     "name": "stdout",
     "output_type": "stream",
     "text": [
      "예측값은 78.82631230227963\n",
      "95% 신뢰구간은 [77.11261368775142, 80.54001091680784]\n"
     ]
    }
   ],
   "source": [
    "mean_value = summary.loc[0, 'mean']\n",
    "lower_bound = summary.loc[0, 'mean_ci_lower'] #prediction.conf_int()[0][0]\n",
    "upper_bound = summary.loc[0, 'mean_ci_upper'] #prediction.conf_int()[0][1]\n",
    "print(f'예측값은 {mean_value}')\n",
    "print(f'95% 신뢰구간은 [{lower_bound}, {upper_bound}]')"
   ]
  }
 ],
 "metadata": {
  "kernelspec": {
   "display_name": "Python 3 (ipykernel)",
   "language": "python",
   "name": "python3"
  },
  "language_info": {
   "codemirror_mode": {
    "name": "ipython",
    "version": 3
   },
   "file_extension": ".py",
   "mimetype": "text/x-python",
   "name": "python",
   "nbconvert_exporter": "python",
   "pygments_lexer": "ipython3",
   "version": "3.12.1"
  }
 },
 "nbformat": 4,
 "nbformat_minor": 5
}
