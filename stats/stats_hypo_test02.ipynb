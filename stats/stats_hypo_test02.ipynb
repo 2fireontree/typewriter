{
 "cells": [
  {
   "cell_type": "markdown",
   "id": "89b2d4fe-7bb2-4bc9-936d-0eed21fb7db8",
   "metadata": {},
   "source": [
    "#### 2표본 문제에 대한 가설검정\n",
    "- 대응표본: 두 데이터에게 서로 대응하는 각각 다른 조건으로 측정한 표본\n",
    "    + 예시: 동일한 피검자에게 약물 투약 전과 약물 투약 후라는 다른 조건으로 측정한 경우\n",
    "    + 정규성 검정을 통과(정규분포를 가정 가능) -> 대응비교 t 검정\n",
    "    + 정규성 검정 통과 실패 -> 윌콕슨 부호순위 검정.\n",
    "    + 윌콕슨 부호순위 검정: 평균이 아닌 중앙값 차이에 대한 검정\n",
    "- 독립표본: 두 데이터에서 개체가 다른 데이터로 되어 있는 표본\n",
    "    + 예시: A조와 B조의 시험 점수 비교\n",
    "    + 정규성 검정을 통과(정규분포를 가정 가능) -> 독립비교 t 검정\n",
    "    + 정규성 검정 통과 실패 -> 만 위트니 U 검정\n",
    "    + 만 위트니 U 검정: 평균이 아닌 중앙값 차이에 대한 검정"
   ]
  },
  {
   "cell_type": "code",
   "execution_count": 1,
   "id": "e6832d62-88f1-4870-aa5a-91189cc49166",
   "metadata": {},
   "outputs": [],
   "source": [
    "import numpy as np\n",
    "import pandas as pd\n",
    "import scipy \n",
    "from scipy import stats"
   ]
  },
  {
   "cell_type": "markdown",
   "id": "e5718f03-bfab-4b50-9b52-c747c2dd3c0b",
   "metadata": {},
   "source": [
    "#### 대응비교 t검정\n",
    "- 근력 운동의 집중력에 대한 영향\n",
    "    + ua: 운동 전 집중력 테스트 평균 점수\n",
    "    + ub: 운동 후 집중력 테스트 평균 점수\n",
    "- H0: ub - ua == 0\n",
    "- H1: ub - ua != 0 "
   ]
  },
  {
   "cell_type": "code",
   "execution_count": 5,
   "id": "7408b341-f2ee-4b3b-98a2-ed6b6959e319",
   "metadata": {},
   "outputs": [
    {
     "data": {
      "text/html": [
       "<div>\n",
       "<style scoped>\n",
       "    .dataframe tbody tr th:only-of-type {\n",
       "        vertical-align: middle;\n",
       "    }\n",
       "\n",
       "    .dataframe tbody tr th {\n",
       "        vertical-align: top;\n",
       "    }\n",
       "\n",
       "    .dataframe thead th {\n",
       "        text-align: right;\n",
       "    }\n",
       "</style>\n",
       "<table border=\"1\" class=\"dataframe\">\n",
       "  <thead>\n",
       "    <tr style=\"text-align: right;\">\n",
       "      <th></th>\n",
       "      <th>전</th>\n",
       "      <th>후</th>\n",
       "    </tr>\n",
       "  </thead>\n",
       "  <tbody>\n",
       "    <tr>\n",
       "      <th>0</th>\n",
       "      <td>59</td>\n",
       "      <td>41</td>\n",
       "    </tr>\n",
       "    <tr>\n",
       "      <th>1</th>\n",
       "      <td>52</td>\n",
       "      <td>63</td>\n",
       "    </tr>\n",
       "    <tr>\n",
       "      <th>2</th>\n",
       "      <td>55</td>\n",
       "      <td>68</td>\n",
       "    </tr>\n",
       "    <tr>\n",
       "      <th>3</th>\n",
       "      <td>61</td>\n",
       "      <td>59</td>\n",
       "    </tr>\n",
       "    <tr>\n",
       "      <th>4</th>\n",
       "      <td>59</td>\n",
       "      <td>84</td>\n",
       "    </tr>\n",
       "  </tbody>\n",
       "</table>\n",
       "</div>"
      ],
      "text/plain": [
       "    전   후\n",
       "0  59  41\n",
       "1  52  63\n",
       "2  55  68\n",
       "3  61  59\n",
       "4  59  84"
      ]
     },
     "execution_count": 5,
     "metadata": {},
     "output_type": "execute_result"
    }
   ],
   "source": [
    "df_rel = pd.read_csv('data/ch11_training_rel.csv')\n",
    "df_rel.head()"
   ]
  },
  {
   "cell_type": "code",
   "execution_count": 7,
   "id": "062a562f-19f7-46b7-88f5-890451f177d7",
   "metadata": {},
   "outputs": [
    {
     "data": {
      "text/html": [
       "<div>\n",
       "<style scoped>\n",
       "    .dataframe tbody tr th:only-of-type {\n",
       "        vertical-align: middle;\n",
       "    }\n",
       "\n",
       "    .dataframe tbody tr th {\n",
       "        vertical-align: top;\n",
       "    }\n",
       "\n",
       "    .dataframe thead th {\n",
       "        text-align: right;\n",
       "    }\n",
       "</style>\n",
       "<table border=\"1\" class=\"dataframe\">\n",
       "  <thead>\n",
       "    <tr style=\"text-align: right;\">\n",
       "      <th></th>\n",
       "      <th>전</th>\n",
       "      <th>후</th>\n",
       "      <th>차</th>\n",
       "    </tr>\n",
       "  </thead>\n",
       "  <tbody>\n",
       "    <tr>\n",
       "      <th>0</th>\n",
       "      <td>59</td>\n",
       "      <td>41</td>\n",
       "      <td>-18</td>\n",
       "    </tr>\n",
       "    <tr>\n",
       "      <th>1</th>\n",
       "      <td>52</td>\n",
       "      <td>63</td>\n",
       "      <td>11</td>\n",
       "    </tr>\n",
       "    <tr>\n",
       "      <th>2</th>\n",
       "      <td>55</td>\n",
       "      <td>68</td>\n",
       "      <td>13</td>\n",
       "    </tr>\n",
       "  </tbody>\n",
       "</table>\n",
       "</div>"
      ],
      "text/plain": [
       "    전   후   차\n",
       "0  59  41 -18\n",
       "1  52  63  11\n",
       "2  55  68  13"
      ]
     },
     "execution_count": 7,
     "metadata": {},
     "output_type": "execute_result"
    }
   ],
   "source": [
    "df_rel['차'] = df_rel['후'] - df_rel['전']\n",
    "df_rel.head(3)"
   ]
  },
  {
   "cell_type": "code",
   "execution_count": 11,
   "id": "aaf3faaf-4bb5-42e6-be29-68b30c00f06f",
   "metadata": {},
   "outputs": [
    {
     "name": "stdout",
     "output_type": "stream",
     "text": [
      "p값은  0.040\n"
     ]
    }
   ],
   "source": [
    "samp_rel = np.array(df_rel['차'])\n",
    "t, p = stats.ttest_1samp(samp_rel, 0)\n",
    "print(f'p값은 {p: .3f}')"
   ]
  },
  {
   "cell_type": "code",
   "execution_count": 14,
   "id": "3dc0a554-36df-4c63-be81-5eb06253beff",
   "metadata": {},
   "outputs": [
    {
     "name": "stdout",
     "output_type": "stream",
     "text": [
      "p값은  0.040\n"
     ]
    }
   ],
   "source": [
    "t, p = stats.ttest_rel(df_rel['후'], df_rel['전']) #다른 메소드, 동일한 결과\n",
    "print(f'p값은 {p: .3f}')"
   ]
  },
  {
   "cell_type": "code",
   "execution_count": 17,
   "id": "9a902d92-43bc-40ff-be2b-d9399922b290",
   "metadata": {},
   "outputs": [
    {
     "name": "stdout",
     "output_type": "stream",
     "text": [
      "귀무가설 기각\n"
     ]
    }
   ],
   "source": [
    "alpha = 0.05\n",
    "if p >= alpha:\n",
    "    print('귀무가설 채택')\n",
    "else:\n",
    "    print('귀무가설 기각')  "
   ]
  },
  {
   "cell_type": "markdown",
   "id": "335a632a-a9d3-4093-a5ff-4ea184e51467",
   "metadata": {},
   "source": [
    "##### 해석 및 보고\n",
    "- t 통계량, p 값을 통해서 가설 검정\n",
    "- 평균값의 전과 후를 시각화하여 차이를 비교"
   ]
  },
  {
   "cell_type": "markdown",
   "id": "e90f4ca4-3540-4b65-8963-25d4e22a9496",
   "metadata": {},
   "source": [
    "#### 독립비교 t검정\n",
    "- 근력 운동의 집중력에 대한 영향\n",
    "    + ua: A 학급의 평균 점수\n",
    "    + ub: B 학급의 평균 점수\n",
    "- H0: ub - ua == 0\n",
    "- H1: ub - ua != 0 "
   ]
  },
  {
   "cell_type": "code",
   "execution_count": 18,
   "id": "4424aaa6-d63d-4ac7-bdc8-235b8cd23aea",
   "metadata": {},
   "outputs": [
    {
     "data": {
      "text/html": [
       "<div>\n",
       "<style scoped>\n",
       "    .dataframe tbody tr th:only-of-type {\n",
       "        vertical-align: middle;\n",
       "    }\n",
       "\n",
       "    .dataframe tbody tr th {\n",
       "        vertical-align: top;\n",
       "    }\n",
       "\n",
       "    .dataframe thead th {\n",
       "        text-align: right;\n",
       "    }\n",
       "</style>\n",
       "<table border=\"1\" class=\"dataframe\">\n",
       "  <thead>\n",
       "    <tr style=\"text-align: right;\">\n",
       "      <th></th>\n",
       "      <th>A</th>\n",
       "      <th>B</th>\n",
       "    </tr>\n",
       "  </thead>\n",
       "  <tbody>\n",
       "    <tr>\n",
       "      <th>0</th>\n",
       "      <td>47</td>\n",
       "      <td>49</td>\n",
       "    </tr>\n",
       "    <tr>\n",
       "      <th>1</th>\n",
       "      <td>50</td>\n",
       "      <td>52</td>\n",
       "    </tr>\n",
       "    <tr>\n",
       "      <th>2</th>\n",
       "      <td>37</td>\n",
       "      <td>54</td>\n",
       "    </tr>\n",
       "  </tbody>\n",
       "</table>\n",
       "</div>"
      ],
      "text/plain": [
       "    A   B\n",
       "0  47  49\n",
       "1  50  52\n",
       "2  37  54"
      ]
     },
     "execution_count": 18,
     "metadata": {},
     "output_type": "execute_result"
    }
   ],
   "source": [
    "df_ind = pd.read_csv('data/ch11_training_ind.csv')\n",
    "df_ind.head(3)"
   ]
  },
  {
   "cell_type": "code",
   "execution_count": 25,
   "id": "0446ede3-a511-4cb6-b3e4-439c49550eb4",
   "metadata": {},
   "outputs": [
    {
     "name": "stdout",
     "output_type": "stream",
     "text": [
      "p값은  0.086\n",
      "귀무가설 채택\n"
     ]
    }
   ],
   "source": [
    "alpha = 0.05\n",
    "t, p = stats.ttest_ind(df_ind['A'], df_ind['B'], equal_var = True) #등분산성 동일\n",
    "print(f'p값은 {p: .3f}')\n",
    "if p >= alpha:\n",
    "    print('귀무가설 채택')\n",
    "else:\n",
    "    print('귀무가설 기각')"
   ]
  },
  {
   "cell_type": "code",
   "execution_count": 27,
   "id": "7485205d-03d2-48f3-9797-33e5a78caba6",
   "metadata": {},
   "outputs": [
    {
     "name": "stdout",
     "output_type": "stream",
     "text": [
      "p값은  0.087\n",
      "귀무가설 채택\n"
     ]
    }
   ],
   "source": [
    "alpha = 0.05\n",
    "t, p = stats.ttest_ind(df_ind['A'], df_ind['B'], equal_var = False) #등분산성 다름 --> 웰치의 방법\n",
    "print(f'p값은 {p: .3f}')\n",
    "if p >= alpha:\n",
    "    print('귀무가설 채택')\n",
    "else:\n",
    "    print('귀무가설 기각')"
   ]
  },
  {
   "cell_type": "markdown",
   "id": "da2fbb18-c7e4-4a1e-a041-eca1795a0cea",
   "metadata": {},
   "source": [
    "#### 예제\n",
    "- 주어진 데이터(data/toothgrowth.csv)에는 기니피그 60마리의 치아 길이, 투여한 비타민 C 종류, 투여량이 저장되어 있다.  오렌지주스를 투여받은 기니피그의 치아 길이 평균이 아스코르브산을 투여받은 기니피그의 치아 길이 평균과 일치하는지 t-검정(Two Sample t-test)를 통해 답하고자 한다. 가설은 아래와 같다. \n",
    "- 가설검정\n",
    "    + 귀무가설 : 투여한 약제별 치아의 길이는 같다. \n",
    "    + 대립가설 : 투여한 약제별 치아의 길이는 같지 않다. \n",
    "- 데이터의 변수\n",
    "    + len : 치아의 길이\n",
    "    + supp : 투여한 약제(VC: 아스코르브산, OJ: 오렌지주스)\n",
    "    + does : 투여량\n",
    "- 단, 데이터의 각 변수들은 정규분포를 만족한다. (등분산성 검정 진행하세요~)\n",
    "- 문제 1: 표본평균 $\\overline{X_{OJ}}$, $\\overline{X_{VC}}$를 구하시오.\n",
    "- 문제 2: 위의 가설을 검정하기 위한 검정통계량을 구하시오. (반올림하여 소숫점 둘째 자리까지 계산)\n",
    "- 문제 3: 위의 통계량에 대한 p-값을 구하고 (반올림하여 소숫점 넷째 자리까지 계산), 유의수준 0.05하에서 가설검정의 결과를 채택/기각 중 하나로 선택하시오. \n",
    "  + p-value에 값에 따른 결괏값을 조건문(if-else)으로 구하세요. "
   ]
  },
  {
   "cell_type": "code",
   "execution_count": 28,
   "id": "af6dbb61-3186-42ed-a589-a5809e4f5591",
   "metadata": {},
   "outputs": [
    {
     "data": {
      "text/html": [
       "<div>\n",
       "<style scoped>\n",
       "    .dataframe tbody tr th:only-of-type {\n",
       "        vertical-align: middle;\n",
       "    }\n",
       "\n",
       "    .dataframe tbody tr th {\n",
       "        vertical-align: top;\n",
       "    }\n",
       "\n",
       "    .dataframe thead th {\n",
       "        text-align: right;\n",
       "    }\n",
       "</style>\n",
       "<table border=\"1\" class=\"dataframe\">\n",
       "  <thead>\n",
       "    <tr style=\"text-align: right;\">\n",
       "      <th></th>\n",
       "      <th>len</th>\n",
       "      <th>supp</th>\n",
       "      <th>dose</th>\n",
       "    </tr>\n",
       "  </thead>\n",
       "  <tbody>\n",
       "    <tr>\n",
       "      <th>0</th>\n",
       "      <td>4.2</td>\n",
       "      <td>VC</td>\n",
       "      <td>0.5</td>\n",
       "    </tr>\n",
       "    <tr>\n",
       "      <th>1</th>\n",
       "      <td>11.5</td>\n",
       "      <td>VC</td>\n",
       "      <td>0.5</td>\n",
       "    </tr>\n",
       "    <tr>\n",
       "      <th>2</th>\n",
       "      <td>7.3</td>\n",
       "      <td>VC</td>\n",
       "      <td>0.5</td>\n",
       "    </tr>\n",
       "    <tr>\n",
       "      <th>3</th>\n",
       "      <td>5.8</td>\n",
       "      <td>VC</td>\n",
       "      <td>0.5</td>\n",
       "    </tr>\n",
       "    <tr>\n",
       "      <th>4</th>\n",
       "      <td>6.4</td>\n",
       "      <td>VC</td>\n",
       "      <td>0.5</td>\n",
       "    </tr>\n",
       "  </tbody>\n",
       "</table>\n",
       "</div>"
      ],
      "text/plain": [
       "    len supp  dose\n",
       "0   4.2   VC   0.5\n",
       "1  11.5   VC   0.5\n",
       "2   7.3   VC   0.5\n",
       "3   5.8   VC   0.5\n",
       "4   6.4   VC   0.5"
      ]
     },
     "execution_count": 28,
     "metadata": {},
     "output_type": "execute_result"
    }
   ],
   "source": [
    "import pandas as pd \n",
    "df = pd.read_csv(\"data/toothgrowth.csv\")\n",
    "df.head()"
   ]
  },
  {
   "cell_type": "markdown",
   "id": "cd663280-6733-4fd7-a614-0acb17ccf029",
   "metadata": {},
   "source": [
    "#### 등분산성 검정\n",
    "- 독립표본 T-검정은 정규성 검정 뿐만 아니라, 두 그룹이 등분산성을 띠는지 확인하는 작업 필요\n",
    "- Levene 검정을 사용한 등분산성 검정이 선행되어야 함\n",
    "  + stats.levene() 함수 활용. 라이브러리 링크 : https://docs.scipy.org/doc/scipy/reference/generated/scipy.stats.levene.html\n",
    "- 가설설정\n",
    "  + 귀무가설 :\n",
    "  + 대립가설 :\n",
    "- pvalue 값 :"
   ]
  },
  {
   "cell_type": "code",
   "execution_count": 43,
   "id": "57143cf0-6a2f-4d5c-b0f9-1b44c3c8734e",
   "metadata": {},
   "outputs": [
    {
     "name": "stdout",
     "output_type": "stream",
     "text": [
      "pvalue 값: 0.2752\n",
      "채택\n"
     ]
    }
   ],
   "source": [
    "#귀무가설: 등분산성을 충족시킨다.\n",
    "#대립가설: 등분산성을 충족시키지 못한다.\n",
    "\n",
    "vc_sample = df.loc[df['supp'] == 'VC', 'len']\n",
    "oj_sample = df.loc[df['supp'] == 'OJ', 'len']\n",
    "levene = stats.levene(vc_sample, oj_sample) #LeveneResult(statistic=1.2135720656945064, pvalue=0.2751764616144052)\n",
    "print(f'pvalue 값: {round(levene[1], 4)}')\n",
    "if levene[1] >= 0.05:\n",
    "    print('채택')\n",
    "else:\n",
    "    print('기각')"
   ]
  },
  {
   "cell_type": "markdown",
   "id": "d0ebd8bd-572a-4d3d-8f02-4c67f7965f26",
   "metadata": {},
   "source": [
    "#### 문제 1\n",
    "- 표본평균 $\\overline{X_{OJ}}$, $\\overline{X_{VC}}$를 구하시오."
   ]
  },
  {
   "cell_type": "code",
   "execution_count": 44,
   "id": "57967b4a-acda-4f39-9bf0-63ceb996990f",
   "metadata": {},
   "outputs": [
    {
     "name": "stdout",
     "output_type": "stream",
     "text": [
      "20.66 16.96\n"
     ]
    }
   ],
   "source": [
    "oj_mean = oj_sample.mean()\n",
    "vc_mean = vc_sample.mean()\n",
    "print(round(oj_mean, 2), round(vc_mean, 2))"
   ]
  },
  {
   "cell_type": "markdown",
   "id": "64ec1171-1efa-49c4-9e42-568e61576c94",
   "metadata": {},
   "source": [
    "#### 문제 2\n",
    "- 위의 가설을 검정하기 위한 검정통계량을 구하시오. (반올림하여 소숫점 둘째 자리까지 계산)"
   ]
  },
  {
   "cell_type": "code",
   "execution_count": 45,
   "id": "33a60dc8-97a7-488c-82a7-7eab01df5408",
   "metadata": {},
   "outputs": [
    {
     "data": {
      "text/plain": [
       "-1.92"
      ]
     },
     "execution_count": 45,
     "metadata": {},
     "output_type": "execute_result"
    }
   ],
   "source": [
    "t, p = stats.ttest_ind(vc_sample, oj_sample)\n",
    "round(t, 2)"
   ]
  },
  {
   "cell_type": "markdown",
   "id": "76234696-2f4f-4dbb-b053-1bb5e0680d66",
   "metadata": {},
   "source": [
    "#### 문제 3. \n",
    "- 위의 통계량에 대한 p-값을 구하고 (반올림하여 소숫점 넷째 자리까지 계산), 유의수준 0.05하에서 가설검정의 결과를 채택/기각 중 하나로 선택하시오.\n",
    "    + p-value에 값에 따른 결괏값을 조건문(if-else)으로 구하세요. "
   ]
  },
  {
   "cell_type": "code",
   "execution_count": 46,
   "id": "942c606e-8cba-4314-84cb-01100c10e4b5",
   "metadata": {},
   "outputs": [
    {
     "name": "stdout",
     "output_type": "stream",
     "text": [
      "0.0604\n",
      "채택\n"
     ]
    }
   ],
   "source": [
    "print(round(p, 4))\n",
    "\n",
    "if p >= 0.05:\n",
    "    print('채택')\n",
    "else:\n",
    "    print('기각')"
   ]
  }
 ],
 "metadata": {
  "kernelspec": {
   "display_name": "Python 3 (ipykernel)",
   "language": "python",
   "name": "python3"
  },
  "language_info": {
   "codemirror_mode": {
    "name": "ipython",
    "version": 3
   },
   "file_extension": ".py",
   "mimetype": "text/x-python",
   "name": "python",
   "nbconvert_exporter": "python",
   "pygments_lexer": "ipython3",
   "version": "3.12.1"
  }
 },
 "nbformat": 4,
 "nbformat_minor": 5
}
