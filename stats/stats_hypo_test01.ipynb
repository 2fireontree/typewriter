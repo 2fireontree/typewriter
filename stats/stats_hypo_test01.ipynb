{
 "cells": [
  {
   "cell_type": "markdown",
   "id": "634f3bef-ba09-44cd-88dc-986dae8722c4",
   "metadata": {},
   "source": [
    "#### 정규성 검정\n",
    "- 시나리오: 어느 회사의 직원들의 월급 데이터가 있다. 이 데이터가 정규 분포를 따르는지 확인하고 싶다. 주어진 월급 데이터를 사용하여 정규성 검정을 수행하고 결과를 해석하기\n",
    "- 가설설정\n",
    "  + 귀무가설 :\n",
    "  + 대립가설 : \n",
    "- 코드 작성 후 p-value 값을 구하시고 정규성 여부를 조건문으로 구하세요\n",
    "  + 귀무가설, 대립가설, 정규성 만족 유무 print() 만들기 (형식 자유)\n",
    "  + 예) print(\"abc 만족합니다!\") "
   ]
  },
  {
   "cell_type": "code",
   "execution_count": 73,
   "id": "2db2d13d-388b-4cd9-8593-ac763509504b",
   "metadata": {},
   "outputs": [],
   "source": [
    "salaries = [3500, 4000, 4000, 4500, 5000, 5000, 5500, 6000, 6500, 7000]"
   ]
  },
  {
   "cell_type": "code",
   "execution_count": 74,
   "id": "af8275ec-301d-42df-9309-aaaed74d8c1b",
   "metadata": {},
   "outputs": [
    {
     "name": "stdout",
     "output_type": "stream",
     "text": [
      "귀무가설 : 데이터는 정규성을 만족합니다!\n"
     ]
    }
   ],
   "source": [
    "from scipy import stats\n",
    "\n",
    "t_statistic, p_value = stats.shapiro(salaries) #샤피로 정규성 검정\n",
    "t_statistic, p_value\n",
    "\n",
    "if p_value >= 0.05:\n",
    "    print(\"귀무가설 : 데이터는 정규성을 만족합니다!\")\n",
    "else:\n",
    "    print(\"대립가설 : 데이터는 정규성을 만족하지 않습니다!\")"
   ]
  },
  {
   "cell_type": "markdown",
   "id": "87b1a186-7319-404b-abc2-d5a3ca5837bc",
   "metadata": {},
   "source": [
    "#### 표본평균과 신뢰구간\n",
    "- 중심극한정리: 표본이 30개 이상이면 표준정규분포와 거의 같은 분포가 됨\n",
    "- 귀무가설(H0): 비교하는 값과 차이가 없다. 동일하다를 기본개념으로 하는 가설\n",
    "    + 가설검성의 결과는 귀무가설을 채택하거나 기각하는 방식으로 결론을 내린다.\n",
    "- 대립가설(H1): 뚜렷한 증거가 있을 때 주장하는 가설\n",
    "- 표본평균과 신뢰구간 상한값을 비교했을 때\n",
    "    + 표본평균 < 신뢰구간 : 신뢰구간이 표본평균을 포함하지 않으므로 귀무가설을 기각한다.\n",
    "    + 표본평균 > 신뢰구간 : 신뢰구간이 표본평균을 포함하므로 귀무가설을 채택한다."
   ]
  },
  {
   "cell_type": "code",
   "execution_count": 3,
   "id": "a2731929-b05b-4a67-901b-017311dd855c",
   "metadata": {},
   "outputs": [],
   "source": [
    "import numpy as np\n",
    "import pandas as pd\n",
    "import scipy #수치해석 기능을 제공하는 파이썬 패키지\n",
    "from scipy import stats #확률분포 분석을 위한 서브패키지"
   ]
  },
  {
   "cell_type": "markdown",
   "id": "5f4dd7fc-d144-47a5-b76a-b418db372449",
   "metadata": {},
   "source": [
    "#### Case 1: 감자튀김 문제\n",
    "- 모평균: 130g\n",
    "- 표본 크기: 14\n",
    "    + 정규성 검정을 거쳐야 한다.\n",
    "    + 여기서는 정규분포를 따르고 있다고 전제.\n",
    "- 표본평균: 128.45\n",
    "- H0: 모평균 = 표본평균\n",
    "- H1: 모평균 > 표본평균\n",
    "- 모분산은 9 라고 전제한다."
   ]
  },
  {
   "cell_type": "code",
   "execution_count": 4,
   "id": "259f513c-178f-4fb7-9023-6d2c51bd5ea8",
   "metadata": {},
   "outputs": [
    {
     "name": "stdout",
     "output_type": "stream",
     "text": [
      "(14, 1)\n",
      "       무게\n",
      "0  122.02\n",
      "1  131.73\n",
      "2  130.60\n"
     ]
    }
   ],
   "source": [
    "df = pd.read_csv('data/ch11_potato.csv')\n",
    "print(df.shape)\n",
    "print(df.head(3))"
   ]
  },
  {
   "cell_type": "code",
   "execution_count": 11,
   "id": "a8d8c48a-f1cf-4ec8-9354-d8efb5c02792",
   "metadata": {},
   "outputs": [
    {
     "data": {
      "text/plain": [
       "128.45"
      ]
     },
     "execution_count": 11,
     "metadata": {},
     "output_type": "execute_result"
    }
   ],
   "source": [
    "#표본평균을 구한다.\n",
    "sample = np.array(df['무게']) #배열 추출\n",
    "round(sample.mean(), 2)\n",
    "\n",
    "#round(df.loc[:, '무게'].mean(), 2) : 이걸로도 됨"
   ]
  },
  {
   "cell_type": "code",
   "execution_count": 12,
   "id": "271012fe-dafd-415e-a9e9-c25139659273",
   "metadata": {},
   "outputs": [
    {
     "data": {
      "text/plain": [
       "128.68"
      ]
     },
     "execution_count": 12,
     "metadata": {},
     "output_type": "execute_result"
    }
   ],
   "source": [
    "#정규분포와 신뢰구간 상한값을 구한다.\n",
    "#stats.norm(): 정규분포에 대한 확률 분포를 표현한다.\n",
    "#.isf(0.95): 신뢰구간 95%에 대한 상한값\n",
    "\n",
    "rv = stats.norm(130, np.sqrt(9/14)) #모평균 130, 모분산 9, 표본크기 14\n",
    "round(rv.isf(0.95), 2)"
   ]
  },
  {
   "cell_type": "markdown",
   "id": "cba89365-f70f-4f13-92a7-41d3901fd6a0",
   "metadata": {},
   "source": [
    "- 표본평균(128.45) < 신뢰구간(128.68)\n",
    "- 귀무가설 기각. 모평균이 130g보다 작을 가능성이 있다."
   ]
  },
  {
   "cell_type": "markdown",
   "id": "fc22ad05-a135-4e96-9a15-1461044c0048",
   "metadata": {},
   "source": [
    "#### 가설 검정 개념\n",
    "##### 분포\n",
    "- t 분포\n",
    "    + 검정통계량으로 활용, 표본이 30개 이상이면 표준정규분포와 거의 같은 분포가 됨\n",
    "- 카이제곱 분포\n",
    "    + 동질성 검정 통계량에 활용, 모평균과 모분산이 알려지지 않은 모집단의 모분산에 대한 가설 검정에 사용\n",
    "##### 가설검정 용어\n",
    "- 귀무가설(H0): 비교하는 값과 차이가 없다. 동일하다를 기본개념으로 하는 가설\n",
    "    + 가설검성의 결과는 귀무가설을 채택하거나 기각하는 방식으로 결론을 내린다.\n",
    "- 대립가설(H1): 뚜렷한 증거가 있을 때 주장하는 가설\n",
    "- 검정통계량: 관찰된 표본으로부터 구하는 통계량, 가설의 진위를 판단하는 기준\n",
    "- 유의수준: 귀무가설이 기각되는 확률의 크기\n",
    "    + 일반적으로 0.05(5%)나 0.01(1%)를 쓴다.\n",
    "- 유의확률(p value): 검정통계량보다 작은 값들의 구간 면적.\n",
    "- 임계값: 유의수준의 경계선상의 값\n",
    "##### 가설검정 방법\n",
    "- p value가 유의수준보다\n",
    "    + p < 유의수준(작다): 귀무가설 기각. (유의수준 구간 안에 p value가 들어감)\n",
    "    + p > 유의수준(크다): 귀무가설 채택. (유의수준 구간 밖으로 p value가 넘어감)\n",
    "##### 단측검정과 양측검정\n",
    "- 단측검정\n",
    "    + 한쪽에만 관심이 있는 경우에 사용: A는 B보다 크다 -> A에 관심이 있음\n",
    "    + 감자튀김 케이스 같은 경우\n",
    "- 양측검정\n",
    "    + 양측 모두에 관심이 있는 경우에 많이 사용: A는 B와 같지 않다.\n",
    "- 참고: http://www.statedu.com/QnA/79340"
   ]
  },
  {
   "cell_type": "code",
   "execution_count": 21,
   "id": "089f2d15-9daf-4420-ac1e-ccc0b716844e",
   "metadata": {},
   "outputs": [
    {
     "name": "stdout",
     "output_type": "stream",
     "text": [
      "검정통계량: -1.93\n",
      "임계값: -1.64\n",
      "p값: 0.03\n"
     ]
    }
   ],
   "source": [
    "#단측검정에서 가설검정\n",
    "\n",
    "#검정통계량 구하기\n",
    "s_mean = df.loc[:, '무게'].mean() #표본평균\n",
    "z = (s_mean - 130)/ np.sqrt(9/14)\n",
    "print(f'검정통계량: {round(z, 2)}')\n",
    "\n",
    "#임계값 구하기\n",
    "rv = stats.norm() #정규분포\n",
    "a = rv.isf(0.95)\n",
    "print(f'임계값: {round(a, 2)}')\n",
    "\n",
    "#p값 구하기\n",
    "p = rv.cdf(z)\n",
    "print(f'p값: {round(p, 2)}')"
   ]
  },
  {
   "cell_type": "markdown",
   "id": "25cf4c4d-3da8-4286-9e20-93bdc0e1b538",
   "metadata": {},
   "source": [
    "- 검정통계량(-1.93) < 임계값(-1.64) -> 귀무가설 기각\n",
    "- p값(0.03) < 유의수준(0.05)"
   ]
  },
  {
   "cell_type": "code",
   "execution_count": 26,
   "id": "8adc430c-c593-4cd4-a396-64f0fb4b0639",
   "metadata": {},
   "outputs": [
    {
     "name": "stdout",
     "output_type": "stream",
     "text": [
      "검정통계량: -1.93\n",
      "임계값: (-1.959963984540054, 1.959963984540054)\n",
      "p값: 0.053\n"
     ]
    }
   ],
   "source": [
    "#양측검정에서 가설검정\n",
    "\n",
    "#검정통계량 구하기\n",
    "s_mean = df.loc[:, '무게'].mean() #표본평균\n",
    "z = (s_mean - 130)/ np.sqrt(9/14)\n",
    "print(f'검정통계량: {round(z, 2)}')\n",
    "\n",
    "#임계값 구하기\n",
    "rv = stats.norm() #정규분포\n",
    "a = rv.interval(0.95) #-------------> 다른 부분. tuple 값이 나옴\n",
    "print(f'임계값: {a}')\n",
    "\n",
    "#p값 구하기\n",
    "p = rv.cdf(z) * 2 #-----------------> 다른 부분\n",
    "print(f'p값: {round(p, 3)}') "
   ]
  },
  {
   "cell_type": "markdown",
   "id": "60993378-a22e-4fec-92e8-1654b8a831fc",
   "metadata": {},
   "source": [
    "- 검정통계량(-1.93) > 임계값(-1.96) -> 귀무가설 채택\n",
    "- p값(0.053) > 유의수준(0.05)"
   ]
  },
  {
   "cell_type": "markdown",
   "id": "810fc73c-eabe-413b-8af9-325a6fc2f080",
   "metadata": {},
   "source": [
    "#### 제1종 오류와 제2종 오류\r\n",
    "- 제1종 오류: 귀무가설이 옳을 때, 귀무가설을 기각하는 오류\r\n",
    "    + 오탐(False Positive) - 잘못 검출함\r\n",
    "- 제2종 오류: 대립가설이 옳을 때, 귀무가설을 채택하는 오류\r\n",
    "    + 미탐(False Negetive) - 검출할 것을 검출하지 못함."
   ]
  },
  {
   "cell_type": "code",
   "execution_count": 35,
   "id": "a57af05d-c4c0-4cd8-991d-dbdcb569d610",
   "metadata": {},
   "outputs": [
    {
     "data": {
      "text/plain": [
       "0.0507"
      ]
     },
     "execution_count": 35,
     "metadata": {},
     "output_type": "execute_result"
    }
   ],
   "source": [
    "# 제 1종 오류: 평균이 130인데도 불구하고 평균이 130보다 작다라는 결론을 내리는 상황\n",
    "\n",
    "rv = stats.norm(130, 3) #정규분포 생성\n",
    "c = stats.norm().isf(0.95) #신뢰구간 상한값 계산\n",
    "n_samples = 10000 #시뮬레이션을 수행할 표본의 수는 10000이다.\n",
    "cnt = 0 #표본 평균이 모평균보다 작을 때 카운트를 기록하는 변수 cnt를 초기화한다.\n",
    "\n",
    "#시뮬레이션\n",
    "for _ in range(n_samples):\n",
    "    sample_ = np.round(rv.rvs(14), 2) #크기가 14인 표본을 추출하고 둘째 자리까지 반올림.\n",
    "    s_mean_ = np.mean(sample_) #sample_ 에 저장된 표본의 평균을 계산.\n",
    "    z = (s_mean_ - 130) / np.sqrt(9/14) #검증통계량 계산\n",
    "    if z < c:\n",
    "        cnt += 1 #만약 시뮬레이션 결과가 신뢰구간 상한값보다 작으면/귀무가설 기각이면 cnt에 1 더함\n",
    "        \n",
    "cnt / n_samples #귀무가설이 기각된 경우 / 시뮬레이션 횟수"
   ]
  },
  {
   "cell_type": "markdown",
   "id": "859dc47c-a48b-40c1-a850-0302c6cb9951",
   "metadata": {},
   "source": [
    "##### 해석\r\n",
    "- 시뮬레이션 결과:약 0.052\r\n",
    "- 제1종 오류를 범할 비율은 0.52\r\n",
    "- 약 5% 확률로 모평균이 130g인데도 불구하고 모평균이 130g보다 작다고 잘못 탐지한다.\r\n",
    "- 신뢰구간을 1%로 하여 더 엄격하게 적용할 수 있다."
   ]
  },
  {
   "cell_type": "code",
   "execution_count": 38,
   "id": "70918c36-720c-44be-8ec4-1ed8e477c135",
   "metadata": {},
   "outputs": [
    {
     "data": {
      "text/plain": [
       "0.2011"
      ]
     },
     "execution_count": 38,
     "metadata": {},
     "output_type": "execute_result"
    }
   ],
   "source": [
    "#제2종 오류: \n",
    "##실제로 표본평균이 130g보다 작음에도 불구하고 표본평균은 130g보다 작다라는 결론을 얻을 수 없는 상황.\n",
    "\n",
    "#제1종 오류와 코드는 동일, 실제 모평균이 128이라는 점이 다름\n",
    "rv = stats.norm(128, 3)\n",
    "c = stats.norm().isf(0.95)\n",
    "n_samples = 10000\n",
    "cnt = 0\n",
    "for _ in range(n_samples):\n",
    "    sample_ = np.round(rv.rvs(14), 2)\n",
    "    s_mean_ = np.mean(sample_)\n",
    "    z = (s_mean_ - 130) / np.sqrt(9/14)\n",
    "    if z >= c:\n",
    "        cnt += 1\n",
    "        \n",
    "cnt / n_samples"
   ]
  },
  {
   "cell_type": "markdown",
   "id": "290eb1de-87ad-4ffd-849e-31bcadfae693",
   "metadata": {},
   "source": [
    "##### 해석\n",
    "- 시뮬레이션 결과: 약 0.2\n",
    "- 제2종 오류를 범할 비율은 0.2\n",
    "- 약 20%의 확률로 모평균이 130g보다 작은데도 모평균이 130보다 작다는 결론을 얻을 수 없다.\n",
    "- 제2종 오류는 모집단의 정보에 의존한다. 그러나 대부분의 경우 모집단의 구체적인 정보를 얻기 어려워 저2종 오류는 컨트롤할 수 없다. "
   ]
  },
  {
   "cell_type": "markdown",
   "id": "604db58f-1790-45ab-8d0d-f167553d835a",
   "metadata": {},
   "source": [
    "#### 단일표본 가설검정 정리\n",
    "- 모분산을 아는 경우의 모평균 검정\n",
    "- 모분산에 대한 검정\n",
    "- 모분산을 모르는 경우 모평균 검정\n",
    "    + 모집단에 대한 정보를 아는 현실 케이스가 더 적기 때문에 대부분 이 케이스를 사용함"
   ]
  },
  {
   "cell_type": "code",
   "execution_count": 53,
   "id": "fce5eecc-e5c9-4086-b4b4-5f9493fc8e76",
   "metadata": {},
   "outputs": [
    {
     "name": "stdout",
     "output_type": "stream",
     "text": [
      "귀무가설 채택\n",
      "p값은  0.053\n"
     ]
    }
   ],
   "source": [
    "#모분산을 알고 있을 때 모평균 검정\n",
    "#위의 과정의 종합\n",
    "\n",
    "def pmean_test(sample, mean0, p_var, alpha = 0.05):\n",
    "    s_mean = np.mean(sample)\n",
    "    n = len(sample)\n",
    "    rv = stats.norm()\n",
    "    interval = rv.interval(1 - alpha)\n",
    "\n",
    "    z = (s_mean - mean0) / np.sqrt(p_var/n)\n",
    "\n",
    "    if interval[0] <= z <= interval[1]: #신뢰구간 사이에 있으면\n",
    "        print(\"귀무가설 채택\")\n",
    "    else:\n",
    "        print('귀무가설 기각')\n",
    "\n",
    "    if z < 0:\n",
    "        p = rv.cdf(z) * 2\n",
    "    else:\n",
    "        p = (1 - rv.cdf(z)) * 2\n",
    "    print(f'p값은 {p: .3f}')\n",
    "\n",
    "sample = np.array(df['무게'])\n",
    "pmean_test(sample, 130, 9)"
   ]
  },
  {
   "cell_type": "code",
   "execution_count": 66,
   "id": "25ebcb1c-8edd-4dcd-b87a-eebbbf1a6e33",
   "metadata": {},
   "outputs": [
    {
     "name": "stdout",
     "output_type": "stream",
     "text": [
      "귀무가설 채택\n",
      "p값은  0.085\n"
     ]
    }
   ],
   "source": [
    "#모분산에 대한 검정\n",
    "\n",
    "def pvar_test(sample, var0, alpha = 0.05):\n",
    "    u_var = np.var(sample, ddof = 1) #ddof: 자유도\n",
    "    n = len(sample)\n",
    "    rv = stats.chi2(df = n -1)\n",
    "    interval = rv.interval(1 - alpha)\n",
    "\n",
    "    y = (n-1) * u_var / var0\n",
    "    if interval[0] <= y <= interval[1]:\n",
    "        print(\"귀무가설 채택\")\n",
    "    else:\n",
    "        print('귀무가설 기각')\n",
    "\n",
    "    if y < rv.isf(0.5):\n",
    "        p = rv.cdf(y) * 2\n",
    "    else:\n",
    "        p = (1 - rv.cdf(y)) * 2\n",
    "        print(f'p값은 {p: .3f}')\n",
    "\n",
    "pvar_test(sample, 9)"
   ]
  },
  {
   "cell_type": "code",
   "execution_count": 69,
   "id": "bcdc6b9f-6832-42c4-bdc6-0f02a5b40ee8",
   "metadata": {},
   "outputs": [
    {
     "name": "stdout",
     "output_type": "stream",
     "text": [
      "t 통계량 값: -1.455\n",
      "귀무가설 채택\n",
      "p값은  0.169\n"
     ]
    }
   ],
   "source": [
    "#모분산을 모를 때 모평균 검정 ----> 디폴트\n",
    "\n",
    "def pmean_test(sample, mean0, alpha = 0.05):\n",
    "\n",
    "    s_mean = np.mean(sample)\n",
    "    u_var = np.var(sample, ddof = 1)\n",
    "    n = len(sample)\n",
    "    rv = stats.t(df = n-1) #자유도가 1인 t 분포\n",
    "    interval = rv.interval(1 - alpha)\n",
    "\n",
    "    t = (s_mean - mean0)/np.sqrt(u_var/n)\n",
    "    print(f't 통계량 값: {t: .3f}')\n",
    "\n",
    "    if interval[0] <= t <= interval[1]:\n",
    "        print('귀무가설 채택')\n",
    "    else:\n",
    "        print('귀무가설 기각')\n",
    "\n",
    "    if t < 0:\n",
    "        p = rv.cdf(t) * 2\n",
    "    else:\n",
    "        p = (1 - rv.cdf(t)) * 2\n",
    "    print(f'p값은 {p: .3f}')\n",
    "\n",
    "pmean_test(sample, 130)"
   ]
  },
  {
   "cell_type": "code",
   "execution_count": 72,
   "id": "0000631e-a75b-496e-ae8c-e26c2feb1f98",
   "metadata": {},
   "outputs": [
    {
     "data": {
      "text/plain": [
       "0.169"
      ]
     },
     "execution_count": 72,
     "metadata": {},
     "output_type": "execute_result"
    }
   ],
   "source": [
    "#메소드\n",
    "t, p = stats.ttest_1samp(sample, 130) \n",
    "round(p, 3)"
   ]
  }
 ],
 "metadata": {
  "kernelspec": {
   "display_name": "Python 3 (ipykernel)",
   "language": "python",
   "name": "python3"
  },
  "language_info": {
   "codemirror_mode": {
    "name": "ipython",
    "version": 3
   },
   "file_extension": ".py",
   "mimetype": "text/x-python",
   "name": "python",
   "nbconvert_exporter": "python",
   "pygments_lexer": "ipython3",
   "version": "3.12.1"
  }
 },
 "nbformat": 4,
 "nbformat_minor": 5
}
